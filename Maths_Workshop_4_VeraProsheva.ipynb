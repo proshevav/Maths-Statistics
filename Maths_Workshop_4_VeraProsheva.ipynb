{
  "cells": [
    {
      "cell_type": "markdown",
      "id": "greatest-vitamin",
      "metadata": {
        "id": "greatest-vitamin"
      },
      "source": [
        "# Workshop #4: Descriptive Statistics & Intro to Probability"
      ]
    },
    {
      "cell_type": "code",
      "execution_count": 2,
      "id": "failing-leonard",
      "metadata": {
        "id": "failing-leonard"
      },
      "outputs": [],
      "source": [
        "#importing libraries\n",
        "import numpy as np\n",
        "import pandas as pd\n",
        "import matplotlib.pyplot as plt\n",
        "from matplotlib_venn import venn2, venn3, venn2_circles, venn3_circles\n",
        "import seaborn as sns\n",
        "import scipy.stats as stats\n",
        "import random"
      ]
    },
    {
      "cell_type": "markdown",
      "id": "integrated-shopper",
      "metadata": {
        "id": "integrated-shopper"
      },
      "source": [
        "## Problem 1\n",
        "Michael is throwing darts at a target. He is very good at the game, so the chances of him hitting the “bullseye” (i.e. the center) are 25%. It is reasonable to assume that individual **attempts are independent**. If he throws 5 times in total, what is the probability that he will hit the bullseye:\n",
        "* Exactly three times\n",
        "* at least 3 times\n",
        "\n",
        "Note: the exact numbers are:\n",
        "* `P(exactly three bullseyes) = 0.08789`\n",
        "* `P(at least three bullseyes) = 0.1035`"
      ]
    },
    {
      "cell_type": "code",
      "execution_count": null,
      "id": "adverse-slovak",
      "metadata": {
        "id": "adverse-slovak",
        "colab": {
          "base_uri": "https://localhost:8080/"
        },
        "outputId": "4d829ff4-a0a6-420c-e2d7-5897c2ff2eeb"
      },
      "outputs": [
        {
          "output_type": "stream",
          "name": "stdout",
          "text": [
            "P(exactly three bullseyes): 0.09160\n",
            "P(at least three bullseyes): 0.10480\n"
          ]
        }
      ],
      "source": [
        "# We run a simulation\n",
        "\n",
        "n = 5000 #number of simulations\n",
        "throws = 5 #number of throws per simulation\n",
        "bullseye_probability = 0.25\n",
        "\n",
        "exactly_three = 0\n",
        "at_least_three = 0\n",
        "\n",
        "for i in range(n):\n",
        "    hits = 0\n",
        "    for j in range(throws):\n",
        "        if random.random() < bullseye_probability:\n",
        "            hits += 1\n",
        "\n",
        "    if hits == 3:\n",
        "        exactly_three += 1\n",
        "\n",
        "    if hits >= 3:\n",
        "        at_least_three += 1\n",
        "\n",
        "P_exactly_three = exactly_three / n\n",
        "P_at_least_three = at_least_three / n\n",
        "\n",
        "print(f\"P(exactly three bullseyes): {P_exactly_three:.5f}\")\n",
        "print(f\"P(at least three bullseyes): {P_at_least_three:.5f}\")"
      ]
    },
    {
      "cell_type": "markdown",
      "id": "funded-elimination",
      "metadata": {
        "id": "funded-elimination"
      },
      "source": [
        "## Problem 2\n",
        "Only two international airlines fly daily into an airport. UN Air has 70 flights a day and IS Air has 65 flights a day. Passengers flying with UN Air have an 18% probability of losing their luggage and passengers flying with IS Air have a 23% probability of losing their luggage. You overhear someone in the airport complain about her luggage being lost. Find the probability that she travelled with IS Air.\n",
        "\n",
        "Note: the exact probability is `0.543`"
      ]
    },
    {
      "cell_type": "code",
      "execution_count": null,
      "id": "satisfied-helena",
      "metadata": {
        "id": "satisfied-helena",
        "colab": {
          "base_uri": "https://localhost:8080/"
        },
        "outputId": "c860bb84-6bb0-4461-c451-2622e10e36cd"
      },
      "outputs": [
        {
          "output_type": "stream",
          "name": "stdout",
          "text": [
            "Probability that passenger travelled with IS Air: 0.55871\n"
          ]
        }
      ],
      "source": [
        "# We run a simulation\n",
        "n = 5000 # number of simulations\n",
        "\n",
        "#probability of flying with UN Air\n",
        "un_air_probability = 70 / (70 + 65)\n",
        "\n",
        "#probability of flying with IS Air\n",
        "is_air_probability = 65 / (70 + 65)\n",
        "\n",
        "#probability of losing luggage with UN Air\n",
        "un_air_luggage_loss_probability = 0.18\n",
        "\n",
        "#probability of losing luggage with IS Air\n",
        "is_air_luggage_loss_probability = 0.23\n",
        "\n",
        "is_air_given_lost_luggage = 0\n",
        "total_lost_luggage = 0\n",
        "\n",
        "for i in range(n):\n",
        "    if random.random() < is_air_probability:\n",
        "        airline = \"IS Air\"\n",
        "        luggage_lost = random.random() < is_air_luggage_loss_probability\n",
        "    else:\n",
        "        airline = \"UN Air\"\n",
        "        luggage_lost = random.random() < un_air_luggage_loss_probability\n",
        "\n",
        "    #if luggage is lost, check if it was with IS Air\n",
        "    if luggage_lost:\n",
        "        total_lost_luggage += 1\n",
        "        if airline == \"IS Air\":\n",
        "            is_air_given_lost_luggage += 1\n",
        "\n",
        "P_is_air_given_lost_luggage = is_air_given_lost_luggage / total_lost_luggage\n",
        "\n",
        "print(f\"Probability that passenger travelled with IS Air: {P_is_air_given_lost_luggage:.5f}\")"
      ]
    },
    {
      "cell_type": "markdown",
      "id": "LmVk0pvmbAAz",
      "metadata": {
        "id": "LmVk0pvmbAAz"
      },
      "source": [
        "## Problem 3\n",
        "\n",
        "The five most common words appearing in spam emails are shipping!, today!, here!, available, and fingertips! (Andy Greenberg, “The Most Common Words In Spam Email,” Forbes website, March 17, 2010). Many spam filters separate spam from ham (email not considered to be spam) through application of Bayes’ theorem. Suppose that for one email account, 1 in every 10 messages is spam and the proportions of spam messages that have the five most common words in spam email are given below.\n",
        "\n",
        "| Word        \t| Probability \t|\n",
        "|-------------\t|-------------\t|\n",
        "| shipping!   \t| 0.051       \t|\n",
        "| today!      \t| 0.045       \t|\n",
        "| here!       \t| 0.034       \t|\n",
        "| available   \t| 0.014       \t|\n",
        "| fingertips! \t| 0.014       \t|\n",
        "\n",
        "\n",
        "Also suppose that the proportions of ham messages that have these words are:\n",
        "\n",
        "| Word        \t| Probability \t|\n",
        "|-------------\t|-------------\t|\n",
        "| shipping!   \t| 0.0015      \t|\n",
        "| today!      \t| 0.0022      \t|\n",
        "| here!       \t| 0.0022      \t|\n",
        "| available   \t| 0.0041      \t|\n",
        "| fingertips! \t| 0.0011      \t|\n",
        "\n",
        "a) If a message includes the word shipping!, what is the probability the message is spam? If a message includes the word shipping!, what is the probability the message is ham? Should messages that include the word shipping! be flagged as spam?\n",
        "\n",
        "b) If a message includes the word today!, what is the probability the message is spam? If a message includes the word here!, what is the probability the message is spam? Which of these two words is a stronger indicator that a message is spam? Why?\n",
        "\n",
        "c) If a message includes the word available, what is the probability the message is spam? If a message includes the word fingertips!, what is the probability the message is spam? Which of these two words is a stronger indicator that a message is spam? Why?\n",
        "\n",
        "d) What insights do the results of parts b) and c) yield about what enables a spam filter that uses Bayes’ theorem to work effectively?"
      ]
    },
    {
      "cell_type": "code",
      "execution_count": 4,
      "id": "2PWDswkKXTbF",
      "metadata": {
        "id": "2PWDswkKXTbF",
        "colab": {
          "base_uri": "https://localhost:8080/"
        },
        "outputId": "67d0b532-943d-4435-ca93-d29d50c1c7e9"
      },
      "outputs": [
        {
          "output_type": "stream",
          "name": "stdout",
          "text": [
            "P(Spam | 'shipping'):    0.78295\n",
            "P(Ham  | 'shipping'):    0.21705\n",
            "P(Spam | 'today'):       0.69183\n",
            "P(Spam | 'here'):        0.63315\n",
            "P(Spam | 'available'):   0.26096\n",
            "P(Spam | 'fingertips'):  0.63839\n"
          ]
        }
      ],
      "source": [
        "# Run simulations\n",
        "n = 100000 # number of simulations\n",
        "\n",
        "prob_spam = 0.1\n",
        "prob_ham = 0.9\n",
        "\n",
        "#probabilities in spam\n",
        "prob_shipping_spam = 0.051\n",
        "prob_today_spam = 0.045\n",
        "prob_here_spam = 0.034\n",
        "prob_available_spam = 0.014\n",
        "prob_fingertips_spam = 0.014\n",
        "\n",
        "#probabilities in ham\n",
        "prob_shipping_ham = 0.0015\n",
        "prob_today_ham = 0.0022\n",
        "prob_here_ham = 0.0022\n",
        "prob_available_ham = 0.0041\n",
        "prob_fingertips_ham = 0.0011\n",
        "\n",
        "shipping_spam_given_word = 0\n",
        "shipping_ham_given_word = 0\n",
        "\n",
        "today_spam_given_word = 0\n",
        "today_ham_given_word = 0\n",
        "\n",
        "here_spam_given_word = 0\n",
        "here_ham_given_word = 0\n",
        "\n",
        "available_spam_given_word = 0\n",
        "available_ham_given_word = 0\n",
        "\n",
        "fingertips_spam_given_word = 0\n",
        "fingertips_ham_given_word = 0\n",
        "\n",
        "for _ in range(n):\n",
        "    is_spam = random.random() < prob_spam\n",
        "    is_ham = not is_spam\n",
        "\n",
        "    # shipping\n",
        "    word_in_message = random.random() < (prob_shipping_spam if is_spam else prob_shipping_ham)\n",
        "    if word_in_message:\n",
        "        if is_spam:\n",
        "            shipping_spam_given_word += 1\n",
        "        else:\n",
        "            shipping_ham_given_word += 1\n",
        "\n",
        "    # today\n",
        "    word_in_message = random.random() < (prob_today_spam if is_spam else prob_today_ham)\n",
        "    if word_in_message:\n",
        "        if is_spam:\n",
        "            today_spam_given_word += 1\n",
        "        else:\n",
        "            today_ham_given_word += 1\n",
        "\n",
        "    # here\n",
        "    word_in_message = random.random() < (prob_here_spam if is_spam else prob_here_ham)\n",
        "    if word_in_message:\n",
        "        if is_spam:\n",
        "            here_spam_given_word += 1\n",
        "        else:\n",
        "            here_ham_given_word += 1\n",
        "\n",
        "    # available\n",
        "    word_in_message = random.random() < (prob_available_spam if is_spam else prob_available_ham)\n",
        "    if word_in_message:\n",
        "        if is_spam:\n",
        "            available_spam_given_word += 1\n",
        "        else:\n",
        "            available_ham_given_word += 1\n",
        "\n",
        "    # fingertips\n",
        "    word_in_message = random.random() < (prob_fingertips_spam if is_spam else prob_fingertips_ham)\n",
        "    if word_in_message:\n",
        "        if is_spam:\n",
        "            fingertips_spam_given_word += 1\n",
        "        else:\n",
        "            fingertips_ham_given_word += 1\n",
        "\n",
        "P_shipping_spam_given_word = shipping_spam_given_word / (shipping_spam_given_word + shipping_ham_given_word)\n",
        "P_shipping_ham_given_word = shipping_ham_given_word / (shipping_spam_given_word + shipping_ham_given_word)\n",
        "\n",
        "P_today_spam_given_word = today_spam_given_word / (today_spam_given_word + today_ham_given_word)\n",
        "P_here_spam_given_word = here_spam_given_word / (here_spam_given_word + here_ham_given_word)\n",
        "P_available_spam_given_word = available_spam_given_word / (available_spam_given_word + available_ham_given_word)\n",
        "P_fingertips_spam_given_word = fingertips_spam_given_word / (fingertips_spam_given_word + fingertips_ham_given_word)\n",
        "\n",
        "# Прикажи резултати\n",
        "print(f\"P(Spam | 'shipping'):    {P_shipping_spam_given_word:.5f}\")\n",
        "print(f\"P(Ham  | 'shipping'):    {P_shipping_ham_given_word:.5f}\")\n",
        "print(f\"P(Spam | 'today'):       {P_today_spam_given_word:.5f}\")\n",
        "print(f\"P(Spam | 'here'):        {P_here_spam_given_word:.5f}\")\n",
        "print(f\"P(Spam | 'available'):   {P_available_spam_given_word:.5f}\")\n",
        "print(f\"P(Spam | 'fingertips'):  {P_fingertips_spam_given_word:.5f}\")"
      ]
    },
    {
      "cell_type": "markdown",
      "id": "underlying-soldier",
      "metadata": {
        "id": "underlying-soldier"
      },
      "source": [
        "## Problem 4\n",
        "The file `major_salary.csv` contains data about monthly salaries and majors for some emplyees.\n",
        "* Consider all the salary data. Construct a histogram and a box plot to visualize the distribution of the salaries. Then calculate the Five-Number-Summary of the salaries for all employees and the skewness coefficient.\n",
        "* Using the **z-score**, identify and list any outliers in the set of all salaries.\n",
        "* Now consider the data about the salaries *categorized by major*. Visualize the salaries for each major by box-plots in one graph (**use seaborn exactly as the one we did on Monday for the fuel data**). Comment the results."
      ]
    },
    {
      "cell_type": "code",
      "execution_count": null,
      "id": "together-customs",
      "metadata": {
        "id": "together-customs",
        "colab": {
          "base_uri": "https://localhost:8080/",
          "height": 362
        },
        "outputId": "24eef668-c3ca-4762-d4b3-f20c4468eaaf"
      },
      "outputs": [
        {
          "output_type": "stream",
          "name": "stdout",
          "text": [
            "<class 'pandas.core.frame.DataFrame'>\n",
            "RangeIndex: 111 entries, 0 to 110\n",
            "Data columns (total 2 columns):\n",
            " #   Column  Non-Null Count  Dtype \n",
            "---  ------  --------------  ----- \n",
            " 0   major   111 non-null    object\n",
            " 1   salary  111 non-null    int64 \n",
            "dtypes: int64(1), object(1)\n",
            "memory usage: 1.9+ KB\n"
          ]
        },
        {
          "output_type": "execute_result",
          "data": {
            "text/plain": [
              "          major  salary\n",
              "0    Management    3330\n",
              "1    Management    2700\n",
              "2       Finance    3155\n",
              "3    Accounting    3855\n",
              "4  Info Systems    4220"
            ],
            "text/html": [
              "\n",
              "  <div id=\"df-8c7f03f7-15c4-4ffa-b747-f8b54f2744f9\" class=\"colab-df-container\">\n",
              "    <div>\n",
              "<style scoped>\n",
              "    .dataframe tbody tr th:only-of-type {\n",
              "        vertical-align: middle;\n",
              "    }\n",
              "\n",
              "    .dataframe tbody tr th {\n",
              "        vertical-align: top;\n",
              "    }\n",
              "\n",
              "    .dataframe thead th {\n",
              "        text-align: right;\n",
              "    }\n",
              "</style>\n",
              "<table border=\"1\" class=\"dataframe\">\n",
              "  <thead>\n",
              "    <tr style=\"text-align: right;\">\n",
              "      <th></th>\n",
              "      <th>major</th>\n",
              "      <th>salary</th>\n",
              "    </tr>\n",
              "  </thead>\n",
              "  <tbody>\n",
              "    <tr>\n",
              "      <th>0</th>\n",
              "      <td>Management</td>\n",
              "      <td>3330</td>\n",
              "    </tr>\n",
              "    <tr>\n",
              "      <th>1</th>\n",
              "      <td>Management</td>\n",
              "      <td>2700</td>\n",
              "    </tr>\n",
              "    <tr>\n",
              "      <th>2</th>\n",
              "      <td>Finance</td>\n",
              "      <td>3155</td>\n",
              "    </tr>\n",
              "    <tr>\n",
              "      <th>3</th>\n",
              "      <td>Accounting</td>\n",
              "      <td>3855</td>\n",
              "    </tr>\n",
              "    <tr>\n",
              "      <th>4</th>\n",
              "      <td>Info Systems</td>\n",
              "      <td>4220</td>\n",
              "    </tr>\n",
              "  </tbody>\n",
              "</table>\n",
              "</div>\n",
              "    <div class=\"colab-df-buttons\">\n",
              "\n",
              "  <div class=\"colab-df-container\">\n",
              "    <button class=\"colab-df-convert\" onclick=\"convertToInteractive('df-8c7f03f7-15c4-4ffa-b747-f8b54f2744f9')\"\n",
              "            title=\"Convert this dataframe to an interactive table.\"\n",
              "            style=\"display:none;\">\n",
              "\n",
              "  <svg xmlns=\"http://www.w3.org/2000/svg\" height=\"24px\" viewBox=\"0 -960 960 960\">\n",
              "    <path d=\"M120-120v-720h720v720H120Zm60-500h600v-160H180v160Zm220 220h160v-160H400v160Zm0 220h160v-160H400v160ZM180-400h160v-160H180v160Zm440 0h160v-160H620v160ZM180-180h160v-160H180v160Zm440 0h160v-160H620v160Z\"/>\n",
              "  </svg>\n",
              "    </button>\n",
              "\n",
              "  <style>\n",
              "    .colab-df-container {\n",
              "      display:flex;\n",
              "      gap: 12px;\n",
              "    }\n",
              "\n",
              "    .colab-df-convert {\n",
              "      background-color: #E8F0FE;\n",
              "      border: none;\n",
              "      border-radius: 50%;\n",
              "      cursor: pointer;\n",
              "      display: none;\n",
              "      fill: #1967D2;\n",
              "      height: 32px;\n",
              "      padding: 0 0 0 0;\n",
              "      width: 32px;\n",
              "    }\n",
              "\n",
              "    .colab-df-convert:hover {\n",
              "      background-color: #E2EBFA;\n",
              "      box-shadow: 0px 1px 2px rgba(60, 64, 67, 0.3), 0px 1px 3px 1px rgba(60, 64, 67, 0.15);\n",
              "      fill: #174EA6;\n",
              "    }\n",
              "\n",
              "    .colab-df-buttons div {\n",
              "      margin-bottom: 4px;\n",
              "    }\n",
              "\n",
              "    [theme=dark] .colab-df-convert {\n",
              "      background-color: #3B4455;\n",
              "      fill: #D2E3FC;\n",
              "    }\n",
              "\n",
              "    [theme=dark] .colab-df-convert:hover {\n",
              "      background-color: #434B5C;\n",
              "      box-shadow: 0px 1px 3px 1px rgba(0, 0, 0, 0.15);\n",
              "      filter: drop-shadow(0px 1px 2px rgba(0, 0, 0, 0.3));\n",
              "      fill: #FFFFFF;\n",
              "    }\n",
              "  </style>\n",
              "\n",
              "    <script>\n",
              "      const buttonEl =\n",
              "        document.querySelector('#df-8c7f03f7-15c4-4ffa-b747-f8b54f2744f9 button.colab-df-convert');\n",
              "      buttonEl.style.display =\n",
              "        google.colab.kernel.accessAllowed ? 'block' : 'none';\n",
              "\n",
              "      async function convertToInteractive(key) {\n",
              "        const element = document.querySelector('#df-8c7f03f7-15c4-4ffa-b747-f8b54f2744f9');\n",
              "        const dataTable =\n",
              "          await google.colab.kernel.invokeFunction('convertToInteractive',\n",
              "                                                    [key], {});\n",
              "        if (!dataTable) return;\n",
              "\n",
              "        const docLinkHtml = 'Like what you see? Visit the ' +\n",
              "          '<a target=\"_blank\" href=https://colab.research.google.com/notebooks/data_table.ipynb>data table notebook</a>'\n",
              "          + ' to learn more about interactive tables.';\n",
              "        element.innerHTML = '';\n",
              "        dataTable['output_type'] = 'display_data';\n",
              "        await google.colab.output.renderOutput(dataTable, element);\n",
              "        const docLink = document.createElement('div');\n",
              "        docLink.innerHTML = docLinkHtml;\n",
              "        element.appendChild(docLink);\n",
              "      }\n",
              "    </script>\n",
              "  </div>\n",
              "\n",
              "\n",
              "<div id=\"df-e4cb6f78-80b0-4226-922d-d385518d8eac\">\n",
              "  <button class=\"colab-df-quickchart\" onclick=\"quickchart('df-e4cb6f78-80b0-4226-922d-d385518d8eac')\"\n",
              "            title=\"Suggest charts\"\n",
              "            style=\"display:none;\">\n",
              "\n",
              "<svg xmlns=\"http://www.w3.org/2000/svg\" height=\"24px\"viewBox=\"0 0 24 24\"\n",
              "     width=\"24px\">\n",
              "    <g>\n",
              "        <path d=\"M19 3H5c-1.1 0-2 .9-2 2v14c0 1.1.9 2 2 2h14c1.1 0 2-.9 2-2V5c0-1.1-.9-2-2-2zM9 17H7v-7h2v7zm4 0h-2V7h2v10zm4 0h-2v-4h2v4z\"/>\n",
              "    </g>\n",
              "</svg>\n",
              "  </button>\n",
              "\n",
              "<style>\n",
              "  .colab-df-quickchart {\n",
              "      --bg-color: #E8F0FE;\n",
              "      --fill-color: #1967D2;\n",
              "      --hover-bg-color: #E2EBFA;\n",
              "      --hover-fill-color: #174EA6;\n",
              "      --disabled-fill-color: #AAA;\n",
              "      --disabled-bg-color: #DDD;\n",
              "  }\n",
              "\n",
              "  [theme=dark] .colab-df-quickchart {\n",
              "      --bg-color: #3B4455;\n",
              "      --fill-color: #D2E3FC;\n",
              "      --hover-bg-color: #434B5C;\n",
              "      --hover-fill-color: #FFFFFF;\n",
              "      --disabled-bg-color: #3B4455;\n",
              "      --disabled-fill-color: #666;\n",
              "  }\n",
              "\n",
              "  .colab-df-quickchart {\n",
              "    background-color: var(--bg-color);\n",
              "    border: none;\n",
              "    border-radius: 50%;\n",
              "    cursor: pointer;\n",
              "    display: none;\n",
              "    fill: var(--fill-color);\n",
              "    height: 32px;\n",
              "    padding: 0;\n",
              "    width: 32px;\n",
              "  }\n",
              "\n",
              "  .colab-df-quickchart:hover {\n",
              "    background-color: var(--hover-bg-color);\n",
              "    box-shadow: 0 1px 2px rgba(60, 64, 67, 0.3), 0 1px 3px 1px rgba(60, 64, 67, 0.15);\n",
              "    fill: var(--button-hover-fill-color);\n",
              "  }\n",
              "\n",
              "  .colab-df-quickchart-complete:disabled,\n",
              "  .colab-df-quickchart-complete:disabled:hover {\n",
              "    background-color: var(--disabled-bg-color);\n",
              "    fill: var(--disabled-fill-color);\n",
              "    box-shadow: none;\n",
              "  }\n",
              "\n",
              "  .colab-df-spinner {\n",
              "    border: 2px solid var(--fill-color);\n",
              "    border-color: transparent;\n",
              "    border-bottom-color: var(--fill-color);\n",
              "    animation:\n",
              "      spin 1s steps(1) infinite;\n",
              "  }\n",
              "\n",
              "  @keyframes spin {\n",
              "    0% {\n",
              "      border-color: transparent;\n",
              "      border-bottom-color: var(--fill-color);\n",
              "      border-left-color: var(--fill-color);\n",
              "    }\n",
              "    20% {\n",
              "      border-color: transparent;\n",
              "      border-left-color: var(--fill-color);\n",
              "      border-top-color: var(--fill-color);\n",
              "    }\n",
              "    30% {\n",
              "      border-color: transparent;\n",
              "      border-left-color: var(--fill-color);\n",
              "      border-top-color: var(--fill-color);\n",
              "      border-right-color: var(--fill-color);\n",
              "    }\n",
              "    40% {\n",
              "      border-color: transparent;\n",
              "      border-right-color: var(--fill-color);\n",
              "      border-top-color: var(--fill-color);\n",
              "    }\n",
              "    60% {\n",
              "      border-color: transparent;\n",
              "      border-right-color: var(--fill-color);\n",
              "    }\n",
              "    80% {\n",
              "      border-color: transparent;\n",
              "      border-right-color: var(--fill-color);\n",
              "      border-bottom-color: var(--fill-color);\n",
              "    }\n",
              "    90% {\n",
              "      border-color: transparent;\n",
              "      border-bottom-color: var(--fill-color);\n",
              "    }\n",
              "  }\n",
              "</style>\n",
              "\n",
              "  <script>\n",
              "    async function quickchart(key) {\n",
              "      const quickchartButtonEl =\n",
              "        document.querySelector('#' + key + ' button');\n",
              "      quickchartButtonEl.disabled = true;  // To prevent multiple clicks.\n",
              "      quickchartButtonEl.classList.add('colab-df-spinner');\n",
              "      try {\n",
              "        const charts = await google.colab.kernel.invokeFunction(\n",
              "            'suggestCharts', [key], {});\n",
              "      } catch (error) {\n",
              "        console.error('Error during call to suggestCharts:', error);\n",
              "      }\n",
              "      quickchartButtonEl.classList.remove('colab-df-spinner');\n",
              "      quickchartButtonEl.classList.add('colab-df-quickchart-complete');\n",
              "    }\n",
              "    (() => {\n",
              "      let quickchartButtonEl =\n",
              "        document.querySelector('#df-e4cb6f78-80b0-4226-922d-d385518d8eac button');\n",
              "      quickchartButtonEl.style.display =\n",
              "        google.colab.kernel.accessAllowed ? 'block' : 'none';\n",
              "    })();\n",
              "  </script>\n",
              "</div>\n",
              "    </div>\n",
              "  </div>\n"
            ],
            "application/vnd.google.colaboratory.intrinsic+json": {
              "type": "dataframe",
              "variable_name": "df",
              "summary": "{\n  \"name\": \"df\",\n  \"rows\": 111,\n  \"fields\": [\n    {\n      \"column\": \"major\",\n      \"properties\": {\n        \"dtype\": \"category\",\n        \"num_unique_values\": 5,\n        \"samples\": [\n          \"Finance\",\n          \"Marketing\",\n          \"Accounting\"\n        ],\n        \"semantic_type\": \"\",\n        \"description\": \"\"\n      }\n    },\n    {\n      \"column\": \"salary\",\n      \"properties\": {\n        \"dtype\": \"number\",\n        \"std\": 651,\n        \"min\": 2240,\n        \"max\": 5650,\n        \"num_unique_values\": 95,\n        \"samples\": [\n          2890,\n          3835,\n          3025\n        ],\n        \"semantic_type\": \"\",\n        \"description\": \"\"\n      }\n    }\n  ]\n}"
            }
          },
          "metadata": {},
          "execution_count": 24
        }
      ],
      "source": [
        "# Loading the data\n",
        "df = pd.read_csv('major_salary.csv')\n",
        "df.info()\n",
        "df.head()"
      ]
    },
    {
      "cell_type": "code",
      "execution_count": null,
      "id": "agreed-addition",
      "metadata": {
        "id": "agreed-addition",
        "colab": {
          "base_uri": "https://localhost:8080/",
          "height": 815
        },
        "outputId": "a6209b8b-8177-4dfa-b467-7c47552878f9"
      },
      "outputs": [
        {
          "output_type": "display_data",
          "data": {
            "text/plain": [
              "<Figure size 1200x600 with 2 Axes>"
            ],
            "image/png": "[encoded data removed]"
          },
          "metadata": {}
        },
        {
          "output_type": "stream",
          "name": "stdout",
          "text": [
            "Range = 3410\n",
            "Variance = 424846.99426699436\n",
            "St. deviation = 651.8028799161556\n",
            "\n",
            "Five Number Summary for Salary\n",
            "min = 2240\n",
            "Q1 = 3165.0\n",
            "median = 3645.0\n",
            "Q3 = 4025.0\n",
            "max = 5650\n",
            "\n",
            "Skewness of the salary distribution: 0.5396853870144327\n"
          ]
        }
      ],
      "source": [
        "# Constructing histogram and box-plot of the salaries\n",
        "plt.figure(figsize=(12, 6))\n",
        "\n",
        "# Histogram\n",
        "plt.subplot(1, 2, 1)\n",
        "sns.histplot(df['salary'], kde=True, color='blue', bins=20)\n",
        "plt.title('Histogram for Salary')\n",
        "\n",
        "# Box plot\n",
        "plt.subplot(1, 2, 2)\n",
        "sns.boxplot(x=df['salary'], color='green')\n",
        "plt.title('Boxplot for Salary')\n",
        "\n",
        "plt.tight_layout()\n",
        "plt.show()\n",
        "\n",
        "# Calculating the five-number summary\n",
        "salary =  df['salary']\n",
        "\n",
        "range_salary = salary.max() - salary.min()\n",
        "var_salary = salary.var()\n",
        "st_dev_salary = salary.std()\n",
        "\n",
        "print(\"Range =\", range_salary)\n",
        "print(\"Variance =\", var_salary)\n",
        "print(\"St. deviation =\", st_dev_salary)\n",
        "\n",
        "Q1_salary = np.percentile(salary, 25)\n",
        "Q3_salary = np.percentile(salary, 75)\n",
        "IQR_salary = Q3_salary - Q1_salary\n",
        "min_salary = salary.min()\n",
        "median_salary = salary.median()\n",
        "max_salary = salary.max()\n",
        "\n",
        "print()\n",
        "print(\"Five Number Summary for Salary\");\n",
        "print(\"min =\", min_salary)\n",
        "print(\"Q1 =\", Q1_salary)\n",
        "print(\"median =\", median_salary)\n",
        "print(\"Q3 =\", Q3_salary)\n",
        "print(\"max =\", max_salary)\n",
        "\n",
        "skew_salary = stats.skew(salary)\n",
        "print()\n",
        "print(f\"Skewness of the salary distribution: {skew_salary}\")"
      ]
    },
    {
      "cell_type": "code",
      "execution_count": null,
      "id": "useful-ground",
      "metadata": {
        "id": "useful-ground",
        "colab": {
          "base_uri": "https://localhost:8080/"
        },
        "outputId": "a618efc3-98f7-4a3f-b93c-bd0efc62dc26"
      },
      "outputs": [
        {
          "output_type": "stream",
          "name": "stdout",
          "text": [
            "Outliers based on Z-score:\n",
            "         major  salary\n",
            "83  Accounting    5650\n"
          ]
        }
      ],
      "source": [
        "# Listing outliers with the z-score\n",
        "z_scores = stats.zscore(df['salary'])\n",
        "outliers = df[abs(z_scores) > 3]\n",
        "print(\"Outliers based on Z-score:\")\n",
        "print(outliers)"
      ]
    },
    {
      "cell_type": "code",
      "execution_count": null,
      "id": "delayed-judgment",
      "metadata": {
        "id": "delayed-judgment",
        "colab": {
          "base_uri": "https://localhost:8080/",
          "height": 564
        },
        "outputId": "80bc3c8d-40ba-4ef9-a333-28e42ab21d27"
      },
      "outputs": [
        {
          "output_type": "display_data",
          "data": {
            "text/plain": [
              "<Figure size 1200x600 with 1 Axes>"
            ],
            "image/png": "[encoded data removed]"
          },
          "metadata": {}
        }
      ],
      "source": [
        "# Visualizing the salaries per major\n",
        "plt.figure(figsize=(12, 6))\n",
        "sns.boxplot(x='major', y='salary', data=df, hue='major', palette='colorblind')\n",
        "plt.title('Boxplot of Salaries by Major')\n",
        "plt.show()"
      ]
    },
    {
      "cell_type": "markdown",
      "id": "IhJ89eooyJTA",
      "metadata": {
        "id": "IhJ89eooyJTA"
      },
      "source": [
        "## Problem 5\n",
        "\n",
        "Let $M_h$ and $F_h$ be the events \"the student's mother works in healthcare\" and \"student's father works in healthcare\", respectively. Find the conditional probabilities:\n",
        "* $P(M_h \\mid F_h)$\n",
        "* $P(F_h \\mid M_h)$\n",
        "\n",
        "Use `student-mat.csv`"
      ]
    },
    {
      "cell_type": "code",
      "execution_count": null,
      "id": "74O2oGcScyev",
      "metadata": {
        "id": "74O2oGcScyev",
        "colab": {
          "base_uri": "https://localhost:8080/"
        },
        "outputId": "f1cb0ad2-820a-4052-9950-1d1899177c0f"
      },
      "outputs": [
        {
          "output_type": "stream",
          "name": "stdout",
          "text": [
            "P(M_h | F_h) = 0.3333333333333333\n",
            "P(F_h | M_h) = 0.1764705882352941\n"
          ]
        }
      ],
      "source": [
        "# Loading the data set\n",
        "df = pd.read_csv('student-mat.csv')\n",
        "df.head()\n",
        "\n",
        "Mh = df['Mjob'] == 'health'\n",
        "Fh = df['Fjob'] == 'health'\n",
        "\n",
        "#the father works in healthcare\n",
        "P_Fh = Fh.mean()\n",
        "\n",
        "#the mother works in healthcare\n",
        "P_Mh = Mh.mean()\n",
        "\n",
        "#both parents work in healthcare\n",
        "P_Mh_and_Fh = ((Mh) & (Fh)).mean()\n",
        "\n",
        "# Using the formula: P(M_h | F_h) = P(M_h and F_h)/P(F_h)\n",
        "P_Mh_given_Fh = P_Mh_and_Fh / P_Fh\n",
        "\n",
        "# Using the formula: P(F_h | M_h) = P(F_h and M_h)/P(M_h)\n",
        "P_Fh_given_Mh = P_Mh_and_Fh / P_Mh\n",
        "\n",
        "print(f\"P(M_h | F_h) = {P_Mh_given_Fh}\")\n",
        "print(f\"P(F_h | M_h) = {P_Fh_given_Mh}\")"
      ]
    },
    {
      "cell_type": "markdown",
      "id": "hiHgDVJbwSzi",
      "metadata": {
        "id": "hiHgDVJbwSzi"
      },
      "source": [
        "## Problem 6 and 7\n",
        "\n",
        "Choose one from the file `Workshop #4 - Bonus.pdf`\n",
        "\n"
      ]
    },
    {
      "cell_type": "markdown",
      "source": [
        "###Problem 7"
      ],
      "metadata": {
        "id": "Sf8NVyRUTK93"
      },
      "id": "Sf8NVyRUTK93"
    },
    {
      "cell_type": "markdown",
      "source": [
        "In a certain town three newspapers are published. 20% of the population read A, 16% read B, 14% read C,\n",
        "8% read A and B, 5% read A and C, 4% read B and C, and 2% read all three newspapers. A person is selected\n",
        "at random. Use a Venn diagram to help determine the probability that the person reads:\n",
        "- a) none of the papers\n",
        "- b) at least one of the papers\n",
        "- c) exactly one of the papers\n",
        "- d) A or B (or both)\n",
        "- e) A, given that the person reads at least one paper\n",
        "- f) C, given that the person reads either A or B (or both)"
      ],
      "metadata": {
        "id": "tpG0kQYMTCn-"
      },
      "id": "tpG0kQYMTCn-"
    },
    {
      "cell_type": "code",
      "execution_count": null,
      "id": "0UrjZCVXwbNY",
      "metadata": {
        "id": "0UrjZCVXwbNY",
        "colab": {
          "base_uri": "https://localhost:8080/",
          "height": 550
        },
        "outputId": "5bef08d2-d4c0-43cf-db8f-0a13c6c2cdfd"
      },
      "outputs": [
        {
          "output_type": "stream",
          "name": "stdout",
          "text": [
            "a) Probability that the person reads none of the papers: 0.65\n",
            "b) Probability that the person reads at least one paper: 0.35\n",
            "c) Probability that the person reads exactly one paper: 0.22\n",
            "d) Probability that the person reads A or B (or both): 0.23\n",
            "e) Probability that the person reads A, given that they read at least one paper: 0.5714\n",
            "f) Probability that the person reads C, given that they read A or B (or both): 0.3043\n",
            "\n"
          ]
        },
        {
          "output_type": "display_data",
          "data": {
            "text/plain": [
              "<Figure size 640x480 with 1 Axes>"
            ],
            "image/png": "[encoded data removed]"
          },
          "metadata": {}
        }
      ],
      "source": [
        "P_A = 0.20\n",
        "P_B = 0.16\n",
        "P_C = 0.14\n",
        "P_A_and_B = 0.08\n",
        "P_A_and_C = 0.05\n",
        "P_B_and_C = 0.04\n",
        "P_A_and_B_and_C = 0.02\n",
        "\n",
        "only_A = round(P_A - P_A_and_B - P_A_and_C + P_A_and_B_and_C, 2)\n",
        "only_B = round(P_B - P_A_and_B - P_B_and_C + P_A_and_B_and_C, 2)\n",
        "only_C =  round(P_C - P_A_and_C - P_B_and_C + P_A_and_B_and_C, 2)\n",
        "\n",
        "#A and B, but not C\n",
        "A_and_B_not_C = P_A_and_B - P_A_and_B_and_C\n",
        "#A and C, but not B\n",
        "A_and_C_not_B = round(P_A_and_C - P_A_and_B_and_C, 2)\n",
        "#B and C, but not A\n",
        "B_and_C_not_A = P_B_and_C - P_A_and_B_and_C\n",
        "\n",
        "#All three A, B, and C\n",
        "A_and_B_and_C = P_A_and_B_and_C\n",
        "\n",
        "#none of the papers\n",
        "P_none = 1 - (only_A + only_B + only_C + A_and_B_not_C + A_and_C_not_B + B_and_C_not_A + A_and_B_and_C)\n",
        "\n",
        "#at least one paper\n",
        "P_at_least_one = only_A + only_B + only_C + A_and_B_not_C + A_and_C_not_B + B_and_C_not_A + A_and_B_and_C\n",
        "\n",
        "#exactly one of the papers\n",
        "P_exactly_one = only_A + only_B + only_C\n",
        "\n",
        "#A or B or both\n",
        "P_A_or_B = only_A + only_B + A_and_B_not_C + A_and_B_and_C\n",
        "\n",
        "#A, given that the person reads at least one paper\n",
        "P_A_given_at_least_one = P_A / P_at_least_one\n",
        "\n",
        "#C, given that the person reads either A or B or both\n",
        "P_C_given_A_or_B = (A_and_C_not_B + A_and_B_and_C + B_and_C_not_A) / P_A_or_B\n",
        "\n",
        "print(f\"a) Probability that the person reads none of the papers: {P_none:.2f}\")\n",
        "print(f\"b) Probability that the person reads at least one paper: {P_at_least_one:.2f}\")\n",
        "print(f\"c) Probability that the person reads exactly one paper: {P_exactly_one:.2f}\")\n",
        "print(f\"d) Probability that the person reads A or B (or both): {P_A_or_B:.2f}\")\n",
        "print(f\"e) Probability that the person reads A, given that they read at least one paper: {P_A_given_at_least_one:.4f}\")\n",
        "print(f\"f) Probability that the person reads C, given that they read A or B (or both): {P_C_given_A_or_B:.4f}\")\n",
        "print()\n",
        "\n",
        "venn3(subsets=(only_A, only_B, A_and_B_not_C, only_C, A_and_C_not_B, B_and_C_not_A, A_and_B_and_C),\n",
        "      set_labels=('A', 'B', 'C'))\n",
        "plt.title(\"Venn Diagram of Newspapers\")\n",
        "plt.show()"
      ]
    }
  ],
  "metadata": {
    "colab": {
      "provenance": []
    },
    "kernelspec": {
      "display_name": "Python 3 (ipykernel)",
      "language": "python",
      "name": "python3"
    },
    "language_info": {
      "codemirror_mode": {
        "name": "ipython",
        "version": 3
      },
      "file_extension": ".py",
      "mimetype": "text/x-python",
      "name": "python",
      "nbconvert_exporter": "python",
      "pygments_lexer": "ipython3",
      "version": "3.9.12"
    }
  },
  "nbformat": 4,
  "nbformat_minor": 5
}