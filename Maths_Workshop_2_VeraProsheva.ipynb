{
  "cells": [
    {
      "cell_type": "markdown",
      "id": "lesser-diversity",
      "metadata": {
        "id": "lesser-diversity"
      },
      "source": [
        "# Workshop #2: Calculus"
      ]
    },
    {
      "cell_type": "code",
      "execution_count": 1,
      "id": "subjective-hamilton",
      "metadata": {
        "id": "subjective-hamilton"
      },
      "outputs": [],
      "source": [
        "#importing libraries\n",
        "import numpy as np\n",
        "import sympy as sp\n",
        "import matplotlib.pyplot as plt"
      ]
    },
    {
      "cell_type": "markdown",
      "id": "regulated-doctrine",
      "metadata": {
        "id": "regulated-doctrine"
      },
      "source": [
        "## Problem 1\n",
        "Let $f(x) = x^4 - x^3$.\n",
        "* Find $f'(x)$ and hence find the critical points of the function.\n",
        "* Using $f''(x)$, establish the nature of the critical points (i.e. if they are min, max, or neither).\n",
        "* Calculate any local max/min values the function may have."
      ]
    },
    {
      "cell_type": "code",
      "execution_count": 2,
      "id": "confused-ordering",
      "metadata": {
        "id": "confused-ordering",
        "colab": {
          "base_uri": "https://localhost:8080/",
          "height": 571
        },
        "outputId": "a3337ded-a716-4204-b5c0-c3f42d987c5c"
      },
      "outputs": [
        {
          "output_type": "stream",
          "name": "stdout",
          "text": [
            "Critical points of f:  [0, 3/4]\n",
            "\n",
            "First critical point using second derivative:  0\n",
            "Second critical point using second derivative:  9/4\n",
            "\n",
            "0 is undefined / extreme point.\n",
            "3/4 is a local minimum.\n"
          ]
        },
        {
          "output_type": "display_data",
          "data": {
            "text/plain": [
              "<Figure size 640x480 with 1 Axes>"
            ],
            "image/png": "[encoded data removed]"
          },
          "metadata": {}
        }
      ],
      "source": [
        "# define variables and functions:\n",
        "x,y = sp.symbols('x y')\n",
        "f = x**4 - x**3\n",
        "\n",
        "# Find critical points\n",
        "# Solve the equation f'(x) = 0 to find critical points\n",
        "f_diff = f.diff()\n",
        "eq = sp.Eq(f_diff, 0)\n",
        "f_critical = sp.solve(eq, x)\n",
        "print('Critical points of f: ',f_critical)\n",
        "print()\n",
        "\n",
        "# Test the critical points using second derivative\n",
        "f_sec_diff = f.diff().diff()\n",
        "p_1 = f_sec_diff.subs(x, f_critical[0])\n",
        "p_2 = f_sec_diff.subs(x, f_critical[1])\n",
        "print('First critical point using second derivative: ', p_1)\n",
        "print('Second critical point using second derivative: ', p_2)\n",
        "print()\n",
        "\n",
        "if p_1 > 0:\n",
        "  print(f_critical[0], \"is a local minimum.\")\n",
        "elif p_1 < 0:\n",
        "  print(f_critical[0], \"is a local maximum.\")\n",
        "else:\n",
        "  print(f_critical[0], \"is undefined / extreme point.\")\n",
        "\n",
        "if p_2 > 0:\n",
        "  print(f_critical[1], \"is a local minimum.\")\n",
        "elif p_2 < 0:\n",
        "  print(f_critical[1], \"is a local maximum.\")\n",
        "else:\n",
        "  print(f_critical[1], \"is undefined / extreme point.\")\n",
        "\n",
        "# Just to see if we are ok with the conclusion, graph:\n",
        "f_func = sp.lambdify(x, f)\n",
        "x_vals = np.linspace(-1, 1, 100)\n",
        "y_vals = f_func(x_vals)\n",
        "plt.plot(x_vals, y_vals)\n",
        "plt.scatter(f_critical[0], f_func(f_critical[0]), color='red')\n",
        "plt.scatter(f_critical[1], f_func(f_critical[1]), color='red')\n",
        "plt.xlabel('x')\n",
        "plt.ylabel('y')\n",
        "plt.grid(True)\n",
        "plt.show()"
      ]
    },
    {
      "cell_type": "markdown",
      "id": "6qKd95W9RORR",
      "metadata": {
        "id": "6qKd95W9RORR"
      },
      "source": [
        "## Problem 2\n",
        "\n",
        "The spread of a virus can be modeled by:\n",
        "\\begin{equation}N(w)=-w^3+12w^2,   0<=w<=12\\end{equation}\n",
        "where N is the number of people infected (in hundreds), and w is the time (in weeks).\n",
        "\n",
        "a) What is the maximum number of people projected to be infected?\n",
        "\n",
        "b) When will the virus be spreading most rapidly? (think about what function models the **speed** at which the virus is spreading)."
      ]
    },
    {
      "cell_type": "code",
      "execution_count": 3,
      "id": "eqftBphQRM7x",
      "metadata": {
        "id": "eqftBphQRM7x",
        "colab": {
          "base_uri": "https://localhost:8080/"
        },
        "outputId": "d87e4e43-a36e-43b7-a726-1b9d1f00dec4"
      },
      "outputs": [
        {
          "output_type": "stream",
          "name": "stdout",
          "text": [
            "Critical points of N:  [0, 8]\n",
            "\n",
            "First critical point using second derivative:  24\n",
            "Second critical point using second derivative:  -24\n",
            "\n",
            "0 is a local minimum.\n",
            "8 is a local maximum.\n",
            "\n",
            "Maximum number of infected people: 256 at week 8\n"
          ]
        }
      ],
      "source": [
        "# define variables and functions\n",
        "w = sp.symbols('w')\n",
        "N = -w**3 + 12*w**2\n",
        "\n",
        "# Find critical points\n",
        "N_diff = N.diff()\n",
        "eq = sp.Eq(N_diff, 0)\n",
        "N_critical = sp.solve(eq, w)\n",
        "print('Critical points of N: ',N_critical)\n",
        "print()\n",
        "\n",
        "# Test the critical points using second derivative\n",
        "N_sec_diff = N.diff().diff()\n",
        "p_1 = N_sec_diff.subs(w, N_critical[0])\n",
        "p_2 = N_sec_diff.subs(w, N_critical[1])\n",
        "print('First critical point using second derivative: ', p_1)\n",
        "print('Second critical point using second derivative: ', p_2)\n",
        "print()\n",
        "\n",
        "if p_1 > 0:\n",
        "  print(N_critical[0], \"is a local minimum.\")\n",
        "elif p_1 < 0:\n",
        "  max_infected_w = N_critical[0]\n",
        "  print(N_critical[0], \"is a local maximum.\")\n",
        "else:\n",
        "  print(N_critical[0], \"is undefined / extreme point.\")\n",
        "\n",
        "if p_2 > 0:\n",
        "  print(N_critical[1], \"is a local minimum.\")\n",
        "elif p_2 < 0:\n",
        "  max_infected_w = N_critical[1]\n",
        "  print(N_critical[1], \"is a local maximum.\")\n",
        "else:\n",
        "  print(N_critical[1], \"is undefined / extreme point.\")\n",
        "\n",
        "#maximum number of people projected to be infected\n",
        "max_infected = N.subs(w, max_infected_w)\n",
        "print()\n",
        "print(f\"Maximum number of infected people: {max_infected} at week {max_infected_w}\")"
      ]
    },
    {
      "cell_type": "code",
      "execution_count": 21,
      "id": "FHm3ORNEXMaY",
      "metadata": {
        "id": "FHm3ORNEXMaY",
        "colab": {
          "base_uri": "https://localhost:8080/",
          "height": 108
        },
        "outputId": "99688a27-3b44-4e37-c81b-e803cc4d9543"
      },
      "outputs": [
        {
          "output_type": "display_data",
          "data": {
            "text/plain": [
              "-3*w**2 + 24*w"
            ],
            "text/latex": "$\\displaystyle - 3 w^{2} + 24 w$"
          },
          "metadata": {}
        },
        {
          "output_type": "stream",
          "name": "stdout",
          "text": [
            "Critical points for speed:  [4]\n",
            "\n",
            "The virus is spreading most rapidly at 4 weeks\n",
            "The virus is spreading most rapidly with speed 48\n"
          ]
        }
      ],
      "source": [
        "# (decide which function) models the speed at which the virus is spreding...\n",
        "display(N_diff)\n",
        "speed = N_diff.diff() #speed of virus spread\n",
        "\n",
        "#find critical points\n",
        "eq_speed = sp.Eq(speed, 0)\n",
        "speed_critical = sp.solve(eq_speed, w)\n",
        "print('Critical points for speed: ',speed_critical)\n",
        "print()\n",
        "\n",
        "print(f\"The virus is spreading most rapidly at {speed_critical[0]} weeks\")\n",
        "\n",
        "max_speed = N_diff.subs(w, speed_critical[0])\n",
        "print(f\"The virus is spreading most rapidly with speed {max_speed}\")"
      ]
    },
    {
      "cell_type": "code",
      "execution_count": 23,
      "id": "T3xJTZhFaIqR",
      "metadata": {
        "id": "T3xJTZhFaIqR",
        "colab": {
          "base_uri": "https://localhost:8080/",
          "height": 450
        },
        "outputId": "b5cac980-432b-4e51-e911-009be8607c65"
      },
      "outputs": [
        {
          "output_type": "execute_result",
          "data": {
            "text/plain": [
              "<matplotlib.collections.PathCollection at 0x7856b1a414d0>"
            ]
          },
          "metadata": {},
          "execution_count": 23
        },
        {
          "output_type": "display_data",
          "data": {
            "text/plain": [
              "<Figure size 640x480 with 1 Axes>"
            ],
            "image/png": "[encoded data removed]"
          },
          "metadata": {}
        }
      ],
      "source": [
        "# plot to support your conclusions\n",
        "w_vals = np.linspace(0, 8, 1000)\n",
        "speed_func = sp.lambdify(w, N)\n",
        "speed_vals = speed_func(w_vals)\n",
        "\n",
        "N_diff_func = sp.lambdify(w, N_diff)\n",
        "N_diff_vals = N_diff_func(w_vals)\n",
        "\n",
        "\n",
        "plt.plot(w_vals, N_diff_vals, label=\"N'(w) - Speed of Spread\")\n",
        "plt.scatter(speed_critical[0], N_diff_func(speed_critical[0]), color='green', label='Max Speed at w=4')"
      ]
    },
    {
      "cell_type": "markdown",
      "id": "global-vegetarian",
      "metadata": {
        "id": "global-vegetarian"
      },
      "source": [
        "## Problem 3\n",
        "A manufacturer has determined that the cost $C$ of operating a factory is given by\n",
        "\\begin{equation}C(x)=0.5x^2+10x+7200,\\end{equation}\n",
        "where $x$ is the number of units produced.\n",
        "* At what level of production will the **average cost** per unit be minimized? (Note: the average cost is the ratio of the cost of producing $x$ units and $x$, the number of produced units).\n",
        "* What is the minimal average cost per unit produced?"
      ]
    },
    {
      "cell_type": "code",
      "execution_count": 6,
      "id": "sticky-friday",
      "metadata": {
        "id": "sticky-friday",
        "colab": {
          "base_uri": "https://localhost:8080/"
        },
        "outputId": "096eba3a-e4f6-4d3a-949d-7347d5bacdb2"
      },
      "outputs": [
        {
          "output_type": "stream",
          "name": "stdout",
          "text": [
            "Simplified A:  0.5*x + 10 + 7200/x\n",
            "\n",
            "Critical points of A:  ['-120.00', '120.00']\n",
            "\n",
            "First critical point using second derivative:  -0.0083\n",
            "Second critical point using second derivative:  0.0083\n",
            "\n",
            "Minimal average cost at production level 120.00 is: $130.00\n"
          ]
        }
      ],
      "source": [
        "# Define variables and functions\n",
        "x = sp.symbols('x')\n",
        "C = 0.5*x**2 + 10*x + 7200\n",
        "\n",
        "#average cost\n",
        "A = C / x\n",
        "A_simplified = sp.simplify(A)\n",
        "print('Simplified A: ', A_simplified)\n",
        "print()\n",
        "\n",
        "# Find critical points\n",
        "A_diff = A_simplified.diff()\n",
        "eq = sp.Eq(A_diff, 0)\n",
        "A_critical = sp.solve(eq, x)\n",
        "A_critical = [f'{crit:.2f}' for crit in A_critical]\n",
        "print('Critical points of A: ', A_critical)\n",
        "print()\n",
        "\n",
        "# Test the critical point using second derivative\n",
        "A_sec_diff = A_simplified.diff(x, 2)\n",
        "p_1 = A_sec_diff.subs(x, A_critical[0]).evalf(2)\n",
        "p_2 = A_sec_diff.subs(x, A_critical[1]).evalf(2)\n",
        "print('First critical point using second derivative: ', p_1)\n",
        "print('Second critical point using second derivative: ', p_2)\n",
        "print()\n",
        "\n",
        "#since this doesn't make sense in the real world, a production level of -120 isn't logical, calculate only for 120\n",
        "minimal_average_cost = A_simplified.subs(x, A_critical[1]).evalf(5)\n",
        "print(f'Minimal average cost at production level {A_critical[1]} is: ${minimal_average_cost}')"
      ]
    },
    {
      "cell_type": "markdown",
      "source": [
        "The critical point with minumum is 120 so this is where the average cost per unit is minimized.\n",
        "The minimal average cost occurs at x=120 and the minimal average cost is 130 at that production level."
      ],
      "metadata": {
        "id": "AhjUDZCr1ePQ"
      },
      "id": "AhjUDZCr1ePQ"
    },
    {
      "cell_type": "markdown",
      "id": "hy9oVpuiTkxj",
      "metadata": {
        "id": "hy9oVpuiTkxj"
      },
      "source": [
        "## Problem 4\n",
        "\n",
        "The following diagram shows a rectangular area ABCD enclosed on three sides by 60 m of fencing, and on the fourth by a wall AB.\n",
        "\n",
        "![image.jpeg](data:image/jpeg;base64,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)\n",
        "\n",
        "\n",
        "Find the dimensions of the rectangle that enclose maximum area, and then find the maximum area."
      ]
    },
    {
      "cell_type": "code",
      "execution_count": 7,
      "id": "xb2YuH-1TnWH",
      "metadata": {
        "id": "xb2YuH-1TnWH",
        "colab": {
          "base_uri": "https://localhost:8080/"
        },
        "outputId": "94f1c436-4068-4e94-f831-b193d1b809e8"
      },
      "outputs": [
        {
          "output_type": "stream",
          "name": "stdout",
          "text": [
            "Critical points for A:  [30]\n",
            "Critical point using second derivative:  -1\n",
            "\n",
            "Dimensions that enclose maximum area: x = 30 meters y = 15 meters\n",
            "Maximum area: 450 square meters\n"
          ]
        }
      ],
      "source": [
        "# Define variables and the two functions: perimeter and area function\n",
        "x = sp.symbols('x')\n",
        "\n",
        "y = (60 - x) / 2  #perimeter\n",
        "Area = x * y  #area function\n",
        "\n",
        "Area_simplified = sp.simplify(Area)\n",
        "\n",
        "#find critical points\n",
        "Area_diff = Area_simplified.diff()\n",
        "eq = sp.Eq(Area_diff, 0)\n",
        "Area_critical = sp.solve(eq, x)\n",
        "print('Critical points for A: ',Area_critical)\n",
        "\n",
        "#second derivative test\n",
        "Area_sec_diff = Area_simplified.diff(x, 2)\n",
        "p_1 = Area_sec_diff.subs(x, Area_critical[0])\n",
        "print('Critical point using second derivative: ', p_1)\n",
        "\n",
        "if p_1 < 0:\n",
        "  max_x = Area_critical[0]\n",
        "else:\n",
        "  print(\"There is no maximum\")\n",
        "\n",
        "# Express x or y as a function of the other variable and then...\n",
        "max_y = (60 - max_x) / 2\n",
        "\n",
        "max_area = max_x * max_y\n",
        "\n",
        "print()\n",
        "print(f\"Dimensions that enclose maximum area: x = {max_x} meters y = {max_y} meters\")\n",
        "print(f\"Maximum area: {max_area} square meters\")"
      ]
    },
    {
      "cell_type": "markdown",
      "id": "s5KKJIg9Vnm5",
      "metadata": {
        "id": "s5KKJIg9Vnm5"
      },
      "source": [
        "## Problem 5\n",
        "\n",
        "A farmer wishes to create a rectangular enclosure, ABCD, of area 525 m^2, as shown below.\n",
        "\n",
        "![image.jpeg](data:image/jpeg;base64,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)\n",
        "\n",
        "The fencing used for side AB costs 11 dollars per meter. The fencing for the other three sides costs 3 dollars per meter. The farmer creates an enclosure so that the cost is at a minimum. Find this minimum cost."
      ]
    },
    {
      "cell_type": "code",
      "execution_count": 8,
      "id": "UgU2Ql2wV6-j",
      "metadata": {
        "id": "UgU2Ql2wV6-j",
        "colab": {
          "base_uri": "https://localhost:8080/"
        },
        "outputId": "351020f4-a043-404d-be1e-d373a271f722"
      },
      "outputs": [
        {
          "output_type": "stream",
          "name": "stdout",
          "text": [
            "Critical points for C:  [-15, 15]\n",
            "Critical point using second derivative for 15:  28/15\n",
            "\n",
            "Dimensions for minimum cost: x = 15 meters y = 35 meters\n",
            "Minimum cost: $420\n"
          ]
        }
      ],
      "source": [
        "# The procedure is similtar as in Problem 4\n",
        "x = sp.symbols('x')\n",
        "\n",
        "y = 525 / x\n",
        "C = 11 * x + 3 * (2 * y + x) #cost function\n",
        "\n",
        "C_simplified = sp.simplify(C)\n",
        "\n",
        "#find critical points\n",
        "C_diff = C_simplified.diff()\n",
        "eq = sp.Eq(C_diff, 0)\n",
        "C_critical = sp.solve(eq, x)\n",
        "print('Critical points for C: ', C_critical)\n",
        "\n",
        "#second derivative test\n",
        "C_sec_diff = C_simplified.diff(x, 2)\n",
        "p_1 = C_sec_diff.subs(x, C_critical[1]) #since lengths must be positive we check only for 15\n",
        "print(f'Critical point using second derivative for {C_critical[1]}: ', p_1)\n",
        "\n",
        "if p_1 > 0:\n",
        "  min_x = C_critical[1]\n",
        "else:\n",
        "  print(\"There is no minimum\")\n",
        "\n",
        "min_y = 525 / min_x\n",
        "\n",
        "min_cost = C_simplified.subs(x, min_x)\n",
        "\n",
        "print()\n",
        "print(f\"Dimensions for minimum cost: x = {min_x} meters y = {min_y} meters\")\n",
        "print(f\"Minimum cost: ${min_cost}\")"
      ]
    },
    {
      "cell_type": "markdown",
      "id": "meaningful-robinson",
      "metadata": {
        "id": "meaningful-robinson"
      },
      "source": [
        "## Problem 6\n",
        "A crocodile is stalking prey located 20 m further upstream on the opposite bank of a river that is 6 m wide.\n",
        "\n",
        "Crocodiles travel at different speeds on land and in water.\n",
        "\n",
        "The time taken for the crocodile to reach its prey can be minimized if it swims to a particular point, **P**, $x$ meters upstream on the other side of the river as shown in the diagram.\n",
        "\n",
        "![image.jpeg](data:image/jpeg;base64,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)\n",
        "\n",
        "The time taken, $T$, measured in tenths of a second, for the crocodile to reach its prey is given by\n",
        "\\begin{equation}T(x)=7 \\sqrt{36+x^2} + 4(20-x)\\end{equation}\n",
        "\n",
        "* Calculate the time taken if the crocodile does not travel on land.\n",
        "* Calculate the time taken if the crocodile swims the shortest distance possible.\n",
        "* Between these two extremes there is one value of $x$ which minimizes the time taken. Find this value of $x$ and the minimum possible time. Use Gradient Descent Method with appropriate choice of $x_0$ and $\\alpha$."
      ]
    },
    {
      "cell_type": "code",
      "execution_count": 9,
      "id": "alone-sweden",
      "metadata": {
        "id": "alone-sweden",
        "colab": {
          "base_uri": "https://localhost:8080/"
        },
        "outputId": "18a0b82d-9a1a-4cf2-b5b5-f8a2213676a8"
      },
      "outputs": [
        {
          "output_type": "stream",
          "name": "stdout",
          "text": [
            "Time if the crocodile does not travel on land: 122.00 tenths of a second\n",
            "Time if the crocodile swims the shortest distance: 146.16 tenths of a second\n",
            "\n",
            "Result from gradient descent:  (np.float64(4.177862240789867), np.float64(114.46737587922891), np.float64(9.68581247207112e-07), 216)\n"
          ]
        }
      ],
      "source": [
        "# Define variables and functions\n",
        "x = sp.symbols('x')\n",
        "T = 7 * sp.sqrt(36 + x**2) + 4 * (20 - x)\n",
        "T_diff = T.diff()\n",
        "\n",
        "# Lambdify the functions\n",
        "T_func = sp.lambdify(x, T)\n",
        "T_diff_func = sp.lambdify(x, T_diff)\n",
        "\n",
        "# Calculate the time taken if the crocodile does not travel on land.\n",
        "time_no_land = T_func(0)\n",
        "\n",
        "# Calculate the time taken if the crocodile swims the shortest distance possible.\n",
        "time_shortest = T_func(20)\n",
        "\n",
        "print(f\"Time if the crocodile does not travel on land: {time_no_land:.2f} tenths of a second\")\n",
        "print(f\"Time if the crocodile swims the shortest distance: {time_shortest:.2f} tenths of a second\")\n",
        "\n",
        "# Finding the minimum time\n",
        "\n",
        "alpha = 0.1\n",
        "xk = 0.01\n",
        "tol = 1e-6\n",
        "max_iter = 500\n",
        "k = 0\n",
        "\n",
        "def gradient_descent (d, df, x0, alpha, tol, max_iter):\n",
        "    k = 0\n",
        "    xk = x0\n",
        "\n",
        "    while k < max_iter and abs(df(xk)) > tol:\n",
        "        k += 1\n",
        "        xk = xk - alpha * df(xk)\n",
        "\n",
        "    return (xk, d(xk), abs(df(xk)), k)\n",
        "\n",
        "# Run gradient descent calculations\n",
        "result = gradient_descent(T_func, T_diff_func, xk, alpha, tol, max_iter)\n",
        "\n",
        "print()\n",
        "print('Result from gradient descent: ', result)"
      ]
    },
    {
      "cell_type": "markdown",
      "id": "european-actress",
      "metadata": {
        "id": "european-actress"
      },
      "source": [
        "## Challenge problem #1:\n",
        "**Newton's method** is an important root-finding algorithm that can also be used for optimization. Given a function $f(x)$ and a **good** initial approximation $x_0$, the sequence $x_1, x_2, \\ldots$ generated by the recursive rule:\n",
        "\\begin{equation}x_{k+1} = x_k - \\frac{f'(x_k )}{f''(x_k)}\\end{equation}\n",
        "converges to a point $x^*$ that satisfies $f'(x^*) = 0$, i.e. to a minimum of the function.\n",
        "\n",
        "Write a function that accepts: a function $f$, its derivative $f'$ and second derivative $f''$, a starting point $x_0$, a maximum number of iterations $max\\_iter$, and a stopping tolerance $tol$ as inputs. Implement Newton's method using the recursive relation given above. Your function should return: the approximate minimum $x^*$, the minimum value $f(x^*)$, the absolute value of the derivative at the approximate minimum $|f'(x^*)|$, and the number of iterations computed.\n",
        "\n",
        "Test the performance of Newton’s method on the function $T(x)$ from **Problem 3.**, using the same initial approximation $x_0$ you used. Compare the performance of the two methods."
      ]
    },
    {
      "cell_type": "code",
      "execution_count": 10,
      "id": "identified-director",
      "metadata": {
        "id": "identified-director"
      },
      "outputs": [],
      "source": [
        "# Implement Newton's Method for minimization\n",
        "\n",
        "def newton_method(f, df, df2, x0, max_iter = 500, tol = 1e-4):\n",
        "    # initialize the sequence\n",
        "    x_k = x0\n",
        "    n_iter = 0\n",
        "    # loop until we do not have a solution\n",
        "    for n_iter in range(1, max_iter + 1):\n",
        "      # calculate the new iteration\n",
        "      f_prime = df(x_k)\n",
        "      f_double_prime = df2(x_k)\n",
        "\n",
        "      if f_double_prime == 0:\n",
        "        print(\"Second derivative is zero.\")\n",
        "        return None\n",
        "\n",
        "      # update the derivative\n",
        "      x_k1 = x_k - f_prime / f_double_prime\n",
        "\n",
        "      if abs(x_k1 - x_k) < tol: #if the change is small enough\n",
        "            break\n",
        "      # next iteration\n",
        "      x_k = x_k1\n",
        "\n",
        "    f_min = f(x_k)\n",
        "    f_prime_min = abs(df(x_k))\n",
        "    # return x_min, min_time, deriv_size, n_iter\n",
        "    return x_k, f_min, f_prime_min, n_iter"
      ]
    },
    {
      "cell_type": "code",
      "execution_count": 11,
      "id": "GswVnv-kZuaj",
      "metadata": {
        "id": "GswVnv-kZuaj",
        "colab": {
          "base_uri": "https://localhost:8080/"
        },
        "outputId": "f160d76c-31eb-46dd-dd3e-3d4f3cbf3a65"
      },
      "outputs": [
        {
          "output_type": "stream",
          "name": "stdout",
          "text": [
            "Approximate minimum: 119.99999783272901\n",
            "Function value at x: 130.00000000000003\n",
            "Absolute value of the derivative at x: 1.80605921329402e-08\n",
            "Number of iterations: 11\n"
          ]
        }
      ],
      "source": [
        "A_func = sp.lambdify(x, A_simplified)\n",
        "A_diff_func = sp.lambdify(x, A_diff)\n",
        "A_sec_diff_func = sp.lambdify(x, A_sec_diff)\n",
        "\n",
        "x0 = 10\n",
        "\n",
        "x_min, f_min, f_diff, n_iter = newton_method(A_func, A_diff_func, A_sec_diff_func, x0)\n",
        "\n",
        "print(f\"Approximate minimum: {x_min}\")\n",
        "print(f\"Function value at x: {f_min}\")\n",
        "print(f\"Absolute value of the derivative at x: {f_diff}\")\n",
        "print(f\"Number of iterations: {n_iter}\")"
      ]
    },
    {
      "cell_type": "markdown",
      "id": "LCWe4LlkRy-_",
      "metadata": {
        "id": "LCWe4LlkRy-_"
      },
      "source": [
        "## Challenge problem #2\n",
        "\n",
        "- read the file *Problem - Simple Linear Regression.pdf*"
      ]
    },
    {
      "cell_type": "markdown",
      "source": [
        "Using first, second derivative"
      ],
      "metadata": {
        "id": "dSBjybK7DnQ4"
      },
      "id": "dSBjybK7DnQ4"
    },
    {
      "cell_type": "code",
      "execution_count": 12,
      "id": "g6OeJ0OUR0cl",
      "metadata": {
        "id": "g6OeJ0OUR0cl",
        "colab": {
          "base_uri": "https://localhost:8080/"
        },
        "outputId": "e1e126e0-5f53-4aa6-e69c-293edbdb6ba7"
      },
      "outputs": [
        {
          "output_type": "stream",
          "name": "stdout",
          "text": [
            "Critical points for T:  [11/10]\n",
            "Critical point using second derivative for 11/10:  60\n",
            "\n",
            "Optimal k: 11/10\n"
          ]
        }
      ],
      "source": [
        "#define symbols\n",
        "k = sp.symbols('k')\n",
        "\n",
        "#define function\n",
        "T = (2 - k)**2 + (1 - 2*k)**2 + (3 - 3*k)**2 + (5 - 4*k)**2\n",
        "\n",
        "#first derivative\n",
        "T_diff = T.diff(k)\n",
        "T_sec_diff = sp.diff(T_diff, k)\n",
        "\n",
        "#second derivative test\n",
        "eq = sp.Eq(T_diff, 0)\n",
        "T_critical = sp.solve(eq, k)\n",
        "print('Critical points for T: ', T_critical)\n",
        "p_1 = T_sec_diff.subs(k, T_critical[0])\n",
        "print(f'Critical point using second derivative for {T_critical[0]}: ', p_1)\n",
        "\n",
        "if p_1 > 0:\n",
        "  optimal_k = T_critical[0]\n",
        "else:\n",
        "  print(\"There is no minimum\")\n",
        "\n",
        "print()\n",
        "print('Optimal k:', optimal_k) #such as the total mistake of the model of data is minimal"
      ]
    },
    {
      "cell_type": "markdown",
      "source": [
        "Using Gradiant Descent"
      ],
      "metadata": {
        "id": "9nNISAGYDpSv"
      },
      "id": "9nNISAGYDpSv"
    },
    {
      "cell_type": "code",
      "source": [
        "T_func = sp.lambdify(k, T_diff)\n",
        "T_diff_func = sp.lambdify(k, T_diff)\n",
        "\n",
        "# Set initial parameters for Gradient Descent\n",
        "alpha = 0.01\n",
        "xk = 1\n",
        "tol = 1e-6\n",
        "max_iter = 500\n",
        "k1 = 0\n",
        "\n",
        "def gradient_descent (d, df, x0, alpha, tol, max_iter):\n",
        "    k1 = 0\n",
        "    xk = x0\n",
        "\n",
        "    while k1 < max_iter and abs(df(xk)) > tol:\n",
        "        k1 += 1\n",
        "        xk = xk - alpha * df(xk)\n",
        "\n",
        "    return (xk, d(xk), abs(df(xk)), k1)\n",
        "\n",
        "# Run gradient descent calculations\n",
        "result = gradient_descent(T_func, T_diff_func, xk, alpha, tol, max_iter)\n",
        "\n",
        "# Output the result\n",
        "print('Result from gradient descent: ', result)"
      ],
      "metadata": {
        "colab": {
          "base_uri": "https://localhost:8080/"
        },
        "id": "kfJ25zPYDqU3",
        "outputId": "578d1807-8189-473e-c15f-7b7d64682495"
      },
      "id": "kfJ25zPYDqU3",
      "execution_count": 13,
      "outputs": [
        {
          "output_type": "stream",
          "name": "stdout",
          "text": [
            "Result from gradient descent:  (1.0999999931280522, -4.123168650949083e-07, 4.123168650949083e-07, 18)\n"
          ]
        }
      ]
    }
  ],
  "metadata": {
    "colab": {
      "provenance": []
    },
    "kernelspec": {
      "display_name": "Python 3 (ipykernel)",
      "language": "python",
      "name": "python3"
    },
    "language_info": {
      "codemirror_mode": {
        "name": "ipython",
        "version": 3
      },
      "file_extension": ".py",
      "mimetype": "text/x-python",
      "name": "python",
      "nbconvert_exporter": "python",
      "pygments_lexer": "ipython3",
      "version": "3.9.12"
    }
  },
  "nbformat": 4,
  "nbformat_minor": 5
}