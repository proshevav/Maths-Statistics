{
  "cells": [
    {
      "cell_type": "markdown",
      "id": "matched-messaging",
      "metadata": {
        "id": "matched-messaging"
      },
      "source": [
        "# Workshop #5: Probability Distributions"
      ]
    },
    {
      "cell_type": "code",
      "execution_count": null,
      "id": "humanitarian-schema",
      "metadata": {
        "id": "humanitarian-schema"
      },
      "outputs": [],
      "source": [
        "#importing libraries\n",
        "import numpy as np\n",
        "import pandas as pd\n",
        "import matplotlib.pyplot as plt\n",
        "import sympy as sp\n",
        "import scipy.stats as stats\n",
        "import random"
      ]
    },
    {
      "cell_type": "markdown",
      "id": "copyrighted-swedish",
      "metadata": {
        "id": "copyrighted-swedish"
      },
      "source": [
        "## Problem 1\n",
        "A certain tennis player makes a successful first serve 70% of the time. Assume that each serve is independent of the others. If she serves 6 times, what is the probability she gets:\n",
        "* all 6 serves in?\n",
        "* exactly 4 serves in?\n",
        "* at least 4 serves in?\n",
        "* no more than 4 serves in?\n",
        "* Make a bar graph to visualize the distribution"
      ]
    },
    {
      "cell_type": "code",
      "execution_count": null,
      "id": "comic-athletics",
      "metadata": {
        "colab": {
          "base_uri": "https://localhost:8080/",
          "height": 518
        },
        "id": "comic-athletics",
        "outputId": "d281cf63-7b5c-47a1-e23e-a7d72897b28d"
      },
      "outputs": [
        {
          "output_type": "stream",
          "name": "stdout",
          "text": [
            "P(X = 6) = 0.11764899999999996\n",
            "P(X = 4) = 0.3241349999999999\n",
            "P(X >= 4) = 0.7443099999999999\n",
            "P(X <= 4) = 0.579825\n"
          ]
        },
        {
          "output_type": "display_data",
          "data": {
            "text/plain": [
              "<Figure size 640x480 with 1 Axes>"
            ],
            "image/png": "[encoded data removed]"
          },
          "metadata": {}
        }
      ],
      "source": [
        "n = 6\n",
        "p = 0.7\n",
        "\n",
        "x = np.arange(0, n+1)\n",
        "pmf = stats.binom.pmf(x, n, p)\n",
        "\n",
        "#probability of all 6 serves in\n",
        "P_X_6 = stats.binom.pmf(6, n, p)\n",
        "\n",
        "#probability of 4 serves in\n",
        "P_X_4 = stats.binom.pmf(4, n, p)\n",
        "\n",
        "#probability of at least 4 serves in\n",
        "P_X_geq_4 = stats.binom.cdf(6, n, p) - stats.binom.cdf(3, n, p)\n",
        "\n",
        "#probability of no more than serves in\n",
        "P_X_leq_4 = stats.binom.cdf(4, n, p)\n",
        "\n",
        "print(f\"P(X = 6) = {P_X_6}\")\n",
        "print(f\"P(X = 4) = {P_X_4}\")\n",
        "print(f\"P(X >= 4) = {P_X_geq_4}\")\n",
        "print(f\"P(X <= 4) = {P_X_leq_4}\")\n",
        "\n",
        "#bar plot\n",
        "plt.bar(x, pmf, color='skyblue')\n",
        "plt.xlabel('Successful Serves')\n",
        "plt.ylabel('Probability')\n",
        "plt.xticks(x)\n",
        "plt.show()"
      ]
    },
    {
      "cell_type": "raw",
      "id": "bd4c4b81-9808-4bb2-b9be-41c72c5e7b75",
      "metadata": {
        "id": "bd4c4b81-9808-4bb2-b9be-41c72c5e7b75"
      },
      "source": [
        "X = # of serves that get in\n",
        "X ~ B(6, 0.7)\n",
        "\n",
        "P(X = 6) =  0.11764899999999995\n",
        "P(X = 4) =  0.32413499999999995\n",
        "P(X >= 4) =  0.74431\n",
        "P(X <= 4) =  0.579825"
      ]
    },
    {
      "cell_type": "markdown",
      "id": "confidential-singapore",
      "metadata": {
        "id": "confidential-singapore"
      },
      "source": [
        "## Problem 2\n",
        "A company produces computer microchips, which have a life expectancy that follows a normal distribution with a mean of 90 months and a standard deviation of 3.7 months.\n",
        "* If a microchip is guaranteed to work for 84 months, find the probability that it will fail before the guarantee period ends.\n",
        "* The probability that a microchip is working before the end of the guarantee period is required to be 99%. For how many months should it be guaranteed to work?\n",
        "* A rival company produces microchips where the probability that they will fail after 84 months is 0.88. Given that the life expectancy also follows a normal distribution with standard deviation 3.7 months, find the mean life expectancy of these chips."
      ]
    },
    {
      "cell_type": "code",
      "execution_count": null,
      "id": "sonic-hudson",
      "metadata": {
        "colab": {
          "base_uri": "https://localhost:8080/"
        },
        "id": "sonic-hudson",
        "outputId": "6ff6850c-b267-419b-862b-1105ad64f979"
      },
      "outputs": [
        {
          "output_type": "stream",
          "name": "stdout",
          "text": [
            "P(x < 84): 0.052442195093830156\n",
            "P(X < x) = 0.99 for x: 81.39251286604889\n",
            "The mean life expectancy for the chips of the rival company is: 88.34745113064453\n"
          ]
        }
      ],
      "source": [
        "mean = 90\n",
        "std_dev = 3.7\n",
        "\n",
        "#probability that a microchip fails before 84 months\n",
        "guarantee_period = 84\n",
        "P_fail_before_guarantee = stats.norm.cdf(guarantee_period, mean, std_dev)\n",
        "print(f\"P(x < 84): {P_fail_before_guarantee}\")\n",
        "\n",
        "#guarantee period for 99% probability that the chip will last\n",
        "guarantee_period_99 = stats.norm.ppf(0.01, mean, std_dev)\n",
        "print(f\"P(X < x) = 0.99 for x: {guarantee_period_99}\")\n",
        "\n",
        "#probability of failure after 84 months is 0.88\n",
        "P_fail_after_guarantee = 0.88\n",
        "mean_rival = stats.norm.ppf(P_fail_after_guarantee, loc=84, scale=std_dev)\n",
        "print(f\"The mean life expectancy for the chips of the rival company is: {mean_rival}\")"
      ]
    },
    {
      "cell_type": "raw",
      "id": "88965f10-7b3b-4869-b640-1c29b8b352b4",
      "metadata": {
        "id": "88965f10-7b3b-4869-b640-1c29b8b352b4"
      },
      "source": [
        "X = # months of life expectancy for the chips\n",
        "X ~ N(90, 3.7)\n",
        "\n",
        "P(X < 84) =  0.052442195093830156\n",
        "P(X < x) = 0.99 for x =  81.39251286604889\n",
        "The mean life expectancy for the chips of the rival company is  [88.34745113064453]"
      ]
    },
    {
      "cell_type": "markdown",
      "id": "elect-quarter",
      "metadata": {
        "id": "elect-quarter"
      },
      "source": [
        "## Problem 3\n",
        "The speeds of cars at a certain point on a straight road are normally distributed with mean $\\mu$ and standard deviation $\\sigma$. 15% of the cars travelled at speeds greater than 90 km/h and 12% of them at speeds less than 40 km/h. Find $\\mu$ and $\\sigma$."
      ]
    },
    {
      "cell_type": "code",
      "execution_count": null,
      "id": "acoustic-cotton",
      "metadata": {
        "id": "acoustic-cotton",
        "colab": {
          "base_uri": "https://localhost:8080/"
        },
        "outputId": "03e84cf2-2996-427e-8024-b1e17cfafb7e"
      },
      "outputs": [
        {
          "output_type": "stream",
          "name": "stdout",
          "text": [
            "Mean mu = 66.56633962789658\n",
            "St. dev sigma = 22.609904900447855\n"
          ]
        }
      ],
      "source": [
        "#15% of cars travelled at speeds greater than 90 km/h\n",
        "p1 = 0.85\n",
        "#12% of cars travelled at speeds less than 40 km/h\n",
        "p2 = 0.12\n",
        "\n",
        "x1 = 90\n",
        "x2 = 40\n",
        "\n",
        "z1 = stats.norm.ppf(p1)\n",
        "z2 = stats.norm.ppf(p2)\n",
        "\n",
        "mu = (x1 * z2 - x2 * z1) / (z2 - z1)\n",
        "\n",
        "sigma = (x1 - mu) / z1\n",
        "\n",
        "print(f\"Mean mu = {mu}\")\n",
        "print(f\"St. dev sigma = {sigma}\")"
      ]
    },
    {
      "cell_type": "raw",
      "id": "d8adcfec-d40c-48fa-b800-95dba72017b8",
      "metadata": {
        "id": "d8adcfec-d40c-48fa-b800-95dba72017b8"
      },
      "source": [
        "Mean mu =  66.5663396278966\n",
        "St. dev sigma =  22.6099049004478"
      ]
    },
    {
      "cell_type": "markdown",
      "id": "marked-palestine",
      "metadata": {
        "id": "marked-palestine"
      },
      "source": [
        "## Problem 4\n",
        "This simulation involves rolling a fair six-sided die.\n",
        "\n",
        "Let $X$ be the random variable which counts in what roll you get the first six. This could be, for example, in the first roll, in the third roll, or even the fiftieth roll (though this is highly unlikely. In other words: $X \\in \\{1, 2, 3,\\ldots \\}$. Design a simulation which estimates the probability distribution of the random variable $X$, i.e. estimates the probabilities $P(X=k)$. Note: limit your scope for k to the range $\\{1, 2, \\ldots, 50\\}$ as greater values are anyhow highly unlikely."
      ]
    },
    {
      "cell_type": "code",
      "execution_count": null,
      "id": "compatible-screen",
      "metadata": {
        "id": "compatible-screen",
        "colab": {
          "base_uri": "https://localhost:8080/",
          "height": 449
        },
        "outputId": "d5b69b8a-6301-4f84-fe2f-d2e928dbce26"
      },
      "outputs": [
        {
          "output_type": "display_data",
          "data": {
            "text/plain": [
              "<Figure size 640x480 with 1 Axes>"
            ],
            "image/png": "[encoded data removed]"
          },
          "metadata": {}
        }
      ],
      "source": [
        "num_simulations = 1000\n",
        "max_k = 50\n",
        "\n",
        "first_six_rolls = []\n",
        "\n",
        "for _ in range(num_simulations):\n",
        "    roll_count = 0\n",
        "    while True:\n",
        "        roll_count += 1\n",
        "        if random.randint(1, 6) == 6:\n",
        "            break\n",
        "        if roll_count >= max_k:\n",
        "            break\n",
        "    first_six_rolls.append(min(roll_count, max_k))\n",
        "\n",
        "counts = [first_six_rolls.count(k) for k in range(1, max_k + 1)]\n",
        "\n",
        "probabilities = [count / num_simulations for count in counts]\n",
        "\n",
        "#bar plot\n",
        "plt.bar(range(1, max_k+1), probabilities)\n",
        "plt.xlabel('Roll number until the first six')\n",
        "plt.ylabel('Probability')\n",
        "plt.show()"
      ]
    }
  ],
  "metadata": {
    "kernelspec": {
      "display_name": "Python 3 (ipykernel)",
      "language": "python",
      "name": "python3"
    },
    "language_info": {
      "codemirror_mode": {
        "name": "ipython",
        "version": 3
      },
      "file_extension": ".py",
      "mimetype": "text/x-python",
      "name": "python",
      "nbconvert_exporter": "python",
      "pygments_lexer": "ipython3",
      "version": "3.9.12"
    },
    "colab": {
      "provenance": []
    }
  },
  "nbformat": 4,
  "nbformat_minor": 5
}