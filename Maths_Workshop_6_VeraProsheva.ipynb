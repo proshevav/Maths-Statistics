{
  "cells": [
    {
      "cell_type": "markdown",
      "id": "indian-childhood",
      "metadata": {
        "id": "indian-childhood"
      },
      "source": [
        "# Workshop #6: Hypothesis Tests"
      ]
    },
    {
      "cell_type": "code",
      "execution_count": null,
      "id": "possible-germany",
      "metadata": {
        "id": "possible-germany"
      },
      "outputs": [],
      "source": [
        "# Loading the libraries\n",
        "import numpy as np\n",
        "import pandas as pd\n",
        "import matplotlib.pyplot as plt\n",
        "import scipy.stats as stats\n",
        "from statsmodels.stats.multicomp import pairwise_tukeyhsd"
      ]
    },
    {
      "cell_type": "markdown",
      "id": "demographic-orleans",
      "metadata": {
        "id": "demographic-orleans"
      },
      "source": [
        "## Problem 1\n",
        "*Gulf Real Estate Properties Inc.* is a real estate firm located in southwest Florida. The company, which advertises itself as “expert in the real estate market,” monitors condominium sales by collecting data on location, list price, sale price, and number of days it takes to sell each unit. Each condominium is classified as *Yes* for Gulf view if it is located directly on the Gulf of Mexico or *No* for Gulf view if it is located on the bay or a golf course, near but not on the Gulf. Sample data from the Multiple Listing Service in Naples, Florida, provided recent sales data for some condominiums. The prices are in thousands of dollars. The data are given in `condominiums.csv`.\n",
        "\n",
        "Construct a 95% confidence interval estimate of the population mean *Sale Price* for condominiums **with Gulf view**, and then the 95% confidence interval for the population mean *Sale Price* for condominiums **without Gulf view**. Based on your results, does it seem that the prices differ?"
      ]
    },
    {
      "cell_type": "code",
      "execution_count": null,
      "id": "magnetic-hello",
      "metadata": {
        "colab": {
          "base_uri": "https://localhost:8080/"
        },
        "id": "magnetic-hello",
        "outputId": "de09df00-7677-4da4-9125-92f9a6695213"
      },
      "outputs": [
        {
          "output_type": "stream",
          "name": "stdout",
          "text": [
            "  gulf_view  list_price  sale_price  days_to_sell\n",
            "0       yes       495.0       475.0           130\n",
            "1       yes       379.0       350.0            71\n",
            "2       yes       529.0       519.0            85\n",
            "3       yes       552.5       534.5            95\n",
            "4       yes       334.9       334.9           119\n"
          ]
        }
      ],
      "source": [
        "cond_data = pd.read_csv('condominiums.csv')\n",
        "print(cond_data.head())"
      ]
    },
    {
      "cell_type": "code",
      "source": [
        "gulf_view_data = cond_data[cond_data['gulf_view'] == 'yes']['sale_price']\n",
        "no_gulf_view_data = cond_data[cond_data['gulf_view'] == 'no']['sale_price']\n",
        "\n",
        "mean_gulf_view = gulf_view_data.mean()\n",
        "std_gulf_view = gulf_view_data.std()\n",
        "n_gulf_view = len(gulf_view_data)\n",
        "\n",
        "mean_no_gulf_view = no_gulf_view_data.mean()\n",
        "std_no_gulf_view = no_gulf_view_data.std()\n",
        "n_no_gulf_view = len(no_gulf_view_data)\n",
        "\n",
        "#t-score for 95% confidence interval\n",
        "t_score_gulf_view = stats.t.ppf(0.975, df=n_gulf_view-1)\n",
        "t_score_no_gulf_view = stats.t.ppf(0.975, df=n_no_gulf_view-1)\n",
        "\n",
        "#confidence interval for gulf view\n",
        "margin_of_error_gulf_view = t_score_gulf_view * (std_gulf_view / np.sqrt(n_gulf_view))\n",
        "ci_gulf_view = (mean_gulf_view - margin_of_error_gulf_view, mean_gulf_view + margin_of_error_gulf_view)\n",
        "\n",
        "#confidence interval for no gulf view\n",
        "margin_of_error_no_gulf_view = t_score_no_gulf_view * (std_no_gulf_view / np.sqrt(n_no_gulf_view))\n",
        "ci_no_gulf_view = (mean_no_gulf_view - margin_of_error_no_gulf_view, mean_no_gulf_view + margin_of_error_no_gulf_view)\n",
        "\n",
        "#prices differ significantly between condominiums with a Gulf view and those without\n",
        "print(f\"95% Confidence Interval for Gulf View Sale Price: {ci_gulf_view}\")\n",
        "print(f\"95% Confidence Interval for No Gulf View Sale Price: {ci_no_gulf_view}\")"
      ],
      "metadata": {
        "colab": {
          "base_uri": "https://localhost:8080/"
        },
        "id": "sHzu6UCTX8wM",
        "outputId": "5a2998c7-fad9-45ef-d275-c9f717bbb50e"
      },
      "id": "sHzu6UCTX8wM",
      "execution_count": null,
      "outputs": [
        {
          "output_type": "stream",
          "name": "stdout",
          "text": [
            "95% Confidence Interval for Gulf View Sale Price: (392.65233545150653, 515.7926645484936)\n",
            "95% Confidence Interval for No Gulf View Sale Price: (181.36204825516631, 225.01572952261148)\n"
          ]
        }
      ]
    },
    {
      "cell_type": "raw",
      "id": "00c3ef19-6a8a-4336-8557-adb6954ce761",
      "metadata": {
        "id": "00c3ef19-6a8a-4336-8557-adb6954ce761"
      },
      "source": [
        "   Mean price with view: (392.65233570421816, 515.792664295782)\n",
        "Mean price without view: (181.36204825516631, 225.01572952261148)"
      ]
    },
    {
      "cell_type": "markdown",
      "id": "still-definition",
      "metadata": {
        "id": "still-definition"
      },
      "source": [
        "## Problem 2\n",
        "Triphammer Road is a busy street that passes through a residential neighborhood. Residents there are concerned that vehicles traveling on Triphammer *often **exceed** the posted speed* limit of 30 miles per hour. The local police sometimes place a radar speed detector by the side of the road; as a vehicle approaches, this detector displays the vehicle’s speed to its driver. The local residents are not convinced that such a passive method is helping the problem. They wish to persuade the village to add extra police patrols to encourage drivers to observe the speed limit. To help their case, a resident stood where he could see the detector and recorded the speed of vehicles passing it during a 15-minute period one day. When clusters of vehicles went by, he noted only the speed of the front vehicle. The data are given in `triphammer.csv`.\n",
        "\n",
        "Is there sufficient evidence to support the residents' concern about the speed of vehicles passing on Triphammer Road? State the hypotheses of the test, and then perform the correct test to reach a conclusion.\n"
      ]
    },
    {
      "cell_type": "code",
      "execution_count": null,
      "id": "signal-reply",
      "metadata": {
        "colab": {
          "base_uri": "https://localhost:8080/"
        },
        "id": "signal-reply",
        "outputId": "075ab472-a2f0-44aa-afe6-a6dcc71e228b"
      },
      "outputs": [
        {
          "output_type": "stream",
          "name": "stdout",
          "text": [
            "  vehicle type  speed (mph)\n",
            "0          car           29\n",
            "1          SUV           34\n",
            "2        truck           34\n",
            "3        truck           28\n",
            "4        truck           30\n"
          ]
        }
      ],
      "source": [
        "trip_data = pd.read_csv('triphammer.csv')\n",
        "print(trip_data.head())"
      ]
    },
    {
      "cell_type": "code",
      "source": [
        "mu = 30\n",
        "\n",
        "#t-test\n",
        "t_statistic, p_value = stats.ttest_1samp(trip_data['speed (mph)'], mu)\n",
        "\n",
        "#divide the p-value by 2\n",
        "if t_statistic > 0:\n",
        "  p_value_p = p_value / 2\n",
        "else:\n",
        "  p_value_p = 1 - (p_value / 2)\n",
        "\n",
        "print(f\"t-statistic: {t_statistic}\")\n",
        "print(f\"p-value: {p_value_p}\")\n",
        "\n",
        "#conclusion\n",
        "a = 0.05\n",
        "print()\n",
        "if p_value_p < a:\n",
        "    print(\"There is sufficient evidence to support the concern about the speed of vehicles\")\n",
        "else:\n",
        "    print(\"There is insufficient evidence to support the concern about the speed of vehicles\")"
      ],
      "metadata": {
        "colab": {
          "base_uri": "https://localhost:8080/"
        },
        "id": "3pGchJaoZM_4",
        "outputId": "624298d4-72e6-4593-ebad-418edf56313c"
      },
      "id": "3pGchJaoZM_4",
      "execution_count": null,
      "outputs": [
        {
          "output_type": "stream",
          "name": "stdout",
          "text": [
            "t-statistic: 1.1781136648171595\n",
            "p-value: 0.12566910367402262\n",
            "\n",
            "There is insufficient evidence to support the concern about the speed of vehicles\n"
          ]
        }
      ]
    },
    {
      "cell_type": "raw",
      "id": "843ecb3b-900e-4092-9a89-fd71cbc566f0",
      "metadata": {
        "id": "843ecb3b-900e-4092-9a89-fd71cbc566f0"
      },
      "source": [
        "p-value =  0.12566910367402262"
      ]
    },
    {
      "cell_type": "markdown",
      "id": "flexible-patio",
      "metadata": {
        "id": "flexible-patio"
      },
      "source": [
        "## Problem 3\n",
        "In an investigation of environmental causes of disease, data were collected on the annual mortality rate (deaths per 100,000) for males in 61 large towns in England and Wales. In addition, the water hardness was recorded as the calcium concentration (parts per million, ppm) in the drinking water. The data set (given in `mortality_rates.csv`) also notes, for each town, whether it was south or north of Derby.\n",
        "\n",
        "Perform an appropriate hypothesis test to establish if there is a significant **difference in mortality rates** in the two regions?"
      ]
    },
    {
      "cell_type": "code",
      "execution_count": null,
      "id": "informal-objective",
      "metadata": {
        "colab": {
          "base_uri": "https://localhost:8080/"
        },
        "id": "informal-objective",
        "outputId": "b4bb698e-d7bf-46fa-ee4e-86ef82c74c99"
      },
      "outputs": [
        {
          "output_type": "stream",
          "name": "stdout",
          "text": [
            "   derby  mortality  calcium\n",
            "0  South       1702       44\n",
            "1  South       1309       59\n",
            "2  South       1259      133\n",
            "3  North       1427       27\n",
            "4  North       1724        6\n"
          ]
        }
      ],
      "source": [
        "mort_data = pd.read_csv('mortality_rates.csv')\n",
        "print(mort_data.head())"
      ]
    },
    {
      "cell_type": "code",
      "source": [
        "south_data = mort_data[mort_data['derby'] == 'South']['mortality']\n",
        "north_data = mort_data[mort_data['derby'] == 'North']['mortality']\n",
        "\n",
        "#t-test\n",
        "t_statistic, p_value = stats.ttest_ind(south_data, north_data, equal_var=False)\n",
        "\n",
        "print(f\"p-value: {p_value}\")\n",
        "\n",
        "#conclusion\n",
        "alpha = 0.05\n",
        "print()\n",
        "if p_value < alpha:\n",
        "    print(\"There is a significant difference in mortality rates between the two regions\")\n",
        "else:\n",
        "    print(\"There is no significant difference in mortality rates between the two regions\")"
      ],
      "metadata": {
        "colab": {
          "base_uri": "https://localhost:8080/"
        },
        "id": "8b1l3O6EcUB9",
        "outputId": "eff1428d-5980-45cf-e522-254230486741"
      },
      "id": "8b1l3O6EcUB9",
      "execution_count": null,
      "outputs": [
        {
          "output_type": "stream",
          "name": "stdout",
          "text": [
            "p-value: 3.1512169364549926e-08\n",
            "\n",
            "There is a significant difference in mortality rates between the two regions\n"
          ]
        }
      ]
    },
    {
      "cell_type": "raw",
      "id": "98ab1d61-991d-4540-89b4-0774dbe7aec7",
      "metadata": {
        "id": "98ab1d61-991d-4540-89b4-0774dbe7aec7"
      },
      "source": [
        "p-value = 3.1512169364549926e-08"
      ]
    },
    {
      "cell_type": "markdown",
      "id": "incorrect-interstate",
      "metadata": {
        "id": "incorrect-interstate"
      },
      "source": [
        "## Problem 4\n",
        "A hygiene scientist decided to investigate just how effective washing with soap is in eliminating bacteria. To do this she tested four different methods—washing with water only, washing with regular soap, washing with antibacterial soap (ABS), and spraying hands with antibacterial spray (AS) (containing 65% ethanol as an active ingredient). She suspected that the number of bacteria on her hands before washing might vary considerably from day to day. To help even out the effects of those changes, she generated random numbers to determine the order of the four treatments. Each morning she washed her hands according to the treatment randomly chosen. Then she placed her right hand on a sterile media plate designed to encourage bacteria growth. She incubated each plate for 2 days at 36 °C after which she counted the bacteria colonies. She replicated this procedure 8 times for each of the four treatments. The data are given in `bacterial_counts.csv`.\n",
        "\n",
        "Is there evidence that the average bacterial counts are different for the four methods she tested?"
      ]
    },
    {
      "cell_type": "code",
      "execution_count": null,
      "id": "intensive-globe",
      "metadata": {
        "colab": {
          "base_uri": "https://localhost:8080/"
        },
        "id": "intensive-globe",
        "outputId": "e4e0a88e-7e8c-46a3-f14c-dc06d2b49b14"
      },
      "outputs": [
        {
          "output_type": "stream",
          "name": "stdout",
          "text": [
            "               method  bacterial_count\n",
            "0               water               74\n",
            "1                soap               84\n",
            "2  antibacterial soap               70\n",
            "3       alcohol spray               51\n",
            "4               water              135\n"
          ]
        }
      ],
      "source": [
        "bact_data = pd.read_csv('bacterial_counts.csv')\n",
        "print(bact_data.head())"
      ]
    },
    {
      "cell_type": "code",
      "source": [
        "methods = bact_data['method'].unique()\n",
        "groups = [bact_data[bact_data['method'] == method]['bacterial_count'] for method in methods]\n",
        "\n",
        "#ANOVA test\n",
        "f_stat, p_value = stats.f_oneway(*groups)\n",
        "\n",
        "print(f'ANOVA test : p-value = {p_value}')\n",
        "\n",
        "#Tukey HSD test\n",
        "tukey = pairwise_tukeyhsd(endog=bact_data['bacterial_count'], groups=bact_data['method'], alpha=0.05)\n",
        "\n",
        "tukey_summary = tukey.summary()\n",
        "\n",
        "significant_comparisons = tukey.summary().data[1:]\n",
        "\n",
        "group_a = []\n",
        "group_b = []\n",
        "\n",
        "for comparison in significant_comparisons:\n",
        "  group1, group2, meandiff, pval, lower, upper, reject = comparison\n",
        "  if pval < 0.05:  #if the p-value is less than 0.05, it is significant\n",
        "    group_a.append(group2)\n",
        "    group_b.append(group1)\n",
        "\n",
        "group_a = sorted(set(group_a))\n",
        "group_b = sorted(set(group_b))\n",
        "\n",
        "print()\n",
        "print(f\"Tukey HSD test: Group A: {', '.join(group_a)} Group B: {', '.join(group_b)}\")"
      ],
      "metadata": {
        "colab": {
          "base_uri": "https://localhost:8080/"
        },
        "id": "_zDbNLh4gJhk",
        "outputId": "f189c74f-09b8-471c-8317-65c465b01afb"
      },
      "id": "_zDbNLh4gJhk",
      "execution_count": null,
      "outputs": [
        {
          "output_type": "stream",
          "name": "stdout",
          "text": [
            "ANOVA test : p-value = 0.0011114593949963585\n",
            "\n",
            "Tukey HSD test: Group A: antibacterial soap, soap, water Group B: alcohol spray\n"
          ]
        }
      ]
    },
    {
      "cell_type": "raw",
      "id": "f17bb786-ab87-47fe-9f4c-6b14ceef41e9",
      "metadata": {
        "id": "f17bb786-ab87-47fe-9f4c-6b14ceef41e9"
      },
      "source": [
        "ANOVA test:\n",
        "p-value = 0.0011114593949963585\n",
        "\n",
        "Tukey HSD test:\n",
        "Group A: antibacterial soap, soap, water\n",
        "Group B: alcohol spray"
      ]
    },
    {
      "cell_type": "markdown",
      "id": "radio-married",
      "metadata": {
        "id": "radio-married"
      },
      "source": [
        "## Problem 5\n",
        "In July 1991, and again in April 2001, the *Gallup Poll* asked random samples of adults about their opinions on working parents. The given in `working_parents.csv` contains responses to the question \"Considering the needs of both parents and children, which of the following do you see as the ideal family in today’s society?\"\n",
        "\n",
        "Based on these data, is there evidence that there was a change in people’s attitudes during the 10 years between these polls? (in other words, are the responses in 1991 and 2001 independent)"
      ]
    },
    {
      "cell_type": "code",
      "execution_count": null,
      "id": "tender-blood",
      "metadata": {
        "colab": {
          "base_uri": "https://localhost:8080/"
        },
        "id": "tender-blood",
        "outputId": "52d8ee3b-5426-4984-967e-21b38f3b94ae"
      },
      "outputs": [
        {
          "output_type": "stream",
          "name": "stdout",
          "text": [
            "     ideal_arrangement  year\n",
            "0  both_work_full_time  1991\n",
            "1  both_work_full_time  1991\n",
            "2  both_work_full_time  1991\n",
            "3  both_work_full_time  1991\n",
            "4  both_work_full_time  1991\n"
          ]
        }
      ],
      "source": [
        "work_data = pd.read_csv('working_parents.csv')\n",
        "print(work_data.head())"
      ]
    },
    {
      "cell_type": "code",
      "source": [
        "#create a contingency table\n",
        "contingency_table = pd.crosstab(work_data['ideal_arrangement'], work_data['year'])\n",
        "\n",
        "#chi-square test\n",
        "chi2_stat, p_value, dof, expected = stats.chi2_contingency(contingency_table)\n",
        "\n",
        "print(f\"chi-sq: {chi2_stat}\")\n",
        "print(f\"p-value: {p_value}\")\n",
        "\n",
        "#conclusion based on p-value\n",
        "alpha = 0.05\n",
        "print()\n",
        "if p_value < alpha:\n",
        "    print(\"There is a significant difference in people's attitudes\")\n",
        "else:\n",
        "    print(\"There is no significant difference in people's attitudes\")"
      ],
      "metadata": {
        "colab": {
          "base_uri": "https://localhost:8080/"
        },
        "id": "_7eCa3f4ee6s",
        "outputId": "79b393d7-b42d-4400-98d1-c77a29533d84"
      },
      "id": "_7eCa3f4ee6s",
      "execution_count": null,
      "outputs": [
        {
          "output_type": "stream",
          "name": "stdout",
          "text": [
            "chi-sq: 4.030209095036681\n",
            "p-value: 0.4019329311784825\n",
            "\n",
            "There is no significant difference in people's attitudes\n"
          ]
        }
      ]
    },
    {
      "cell_type": "raw",
      "id": "fcb6519d-fcb5-4ca1-8023-87b303e729db",
      "metadata": {
        "id": "fcb6519d-fcb5-4ca1-8023-87b303e729db"
      },
      "source": [
        "chi_sq =  4.030209095036681\n",
        "p-value =  0.4019329311784825"
      ]
    }
  ],
  "metadata": {
    "kernelspec": {
      "display_name": "Python 3 (ipykernel)",
      "language": "python",
      "name": "python3"
    },
    "language_info": {
      "codemirror_mode": {
        "name": "ipython",
        "version": 3
      },
      "file_extension": ".py",
      "mimetype": "text/x-python",
      "name": "python",
      "nbconvert_exporter": "python",
      "pygments_lexer": "ipython3",
      "version": "3.9.12"
    },
    "colab": {
      "provenance": []
    }
  },
  "nbformat": 4,
  "nbformat_minor": 5
}